{
 "cells": [
  {
   "cell_type": "markdown",
   "metadata": {
    "id": "r3HunYdxJocr"
   },
   "source": [
    "\n",
    "\n",
    "# List comprehension"
   ]
  },
  {
   "cell_type": "markdown",
   "metadata": {
    "id": "lZLXAXLhJoct"
   },
   "source": [
    "\n",
    "\n",
    "List comprehension"
   ]
  },
  {
   "cell_type": "code",
   "execution_count": null,
   "metadata": {
    "id": "6CwXQH60Jocv"
   },
   "outputs": [],
   "source": [
    "[x for x in range(10)]"
   ]
  },
  {
   "cell_type": "markdown",
   "metadata": {
    "id": "EXIxWE8OJoc3"
   },
   "source": [
    "\n",
    "\n",
    "Equivalente a:"
   ]
  },
  {
   "cell_type": "code",
   "execution_count": null,
   "metadata": {
    "id": "EzVsS_OjJoc6"
   },
   "outputs": [],
   "source": [
    "mylist = []\n",
    "for x in range(10):\n",
    "    mylist.append(x)\n",
    "mylist\n",
    "\n",
    "# But list comprehension is much faster"
   ]
  },
  {
   "cell_type": "markdown",
   "metadata": {
    "id": "8hyH2LutJodH"
   },
   "source": [
    "\n",
    "\n",
    "List comprehension con filtros:"
   ]
  },
  {
   "cell_type": "code",
   "execution_count": null,
   "metadata": {
    "id": "B-IRTByZJodK"
   },
   "outputs": [],
   "source": [
    "[x for x in range(10) if x % 2 == 0]"
   ]
  },
  {
   "cell_type": "markdown",
   "metadata": {
    "id": "P9IJPlLnJodV"
   },
   "source": [
    "\n",
    "\n",
    "Equivalente a:"
   ]
  },
  {
   "cell_type": "code",
   "execution_count": null,
   "metadata": {
    "id": "mVCK-nrGJodX"
   },
   "outputs": [],
   "source": [
    "mylist = []\n",
    "for x in range(10):\n",
    "    if x % 2 == 0:\n",
    "        mylist.append(x)\n",
    "mylist"
   ]
  },
  {
   "cell_type": "code",
   "execution_count": null,
   "metadata": {
    "id": "3kRhs--6Jodl"
   },
   "outputs": [],
   "source": [
    "noprimes = [j for i in range(2, 8) for j in range(i*2, 100, i)]\n",
    "primes = [x for x in range(2, 100) if x not in noprimes]\n",
    "print (primes)"
   ]
  },
  {
   "cell_type": "markdown",
   "metadata": {
    "id": "E0O3jjkeJod8"
   },
   "source": [
    "\n",
    "\n",
    "También existe set comprehension y dictionary comprehesion. Veamos un ejemplo de dictionary comprehension."
   ]
  },
  {
   "cell_type": "code",
   "execution_count": null,
   "metadata": {
    "id": "Gv4HVbh1Jod-"
   },
   "outputs": [],
   "source": [
    "dict1 = {'a': 1, 'b': 2, 'c': 3, 'd': 4, 'e': 5}\n",
    "\n",
    "# We double each value of the dictionary\n",
    "double_dict1 = {k:v*2 for (k,v) in dict1.items()}\n",
    "\n",
    "print(double_dict1)"
   ]
  },
  {
   "cell_type": "markdown",
   "metadata": {
    "id": "lZfQxkPVJoeX"
   },
   "source": [
    "\n",
    "\n",
    "## Ejercicios"
   ]
  },
  {
   "cell_type": "markdown",
   "metadata": {
    "id": "oWgCw8PHJoec"
   },
   "source": [
    "\n",
    "\n",
    "### Ejercicio 1\n",
    "Crear un diccionario con dict comprehension cuyas claves (`key`) son números enteros entre 1 y 15 (ambos inclusive) y los valores (`value`) son el cuadrado de la clave (`key`)."
   ]
  },
  {
   "cell_type": "code",
   "execution_count": null,
   "metadata": {
    "id": "kc7hZc4VJoee"
   },
   "outputs": [],
   "source": [
    "# Respuesta aqui"
   ]
  },
  {
   "cell_type": "markdown",
   "metadata": {
    "id": "nXtfqiamJoe4"
   },
   "source": [
    "\n",
    "\n",
    "### Ejercicio 2"
   ]
  },
  {
   "cell_type": "markdown",
   "metadata": {
    "id": "ssp8MnJRJoe6"
   },
   "source": [
    "\n",
    "\n",
    "Escribe un programa que, usando list comprehension, meta en una lista los numeros divisibles por 7 pero no por 5 entre a y b (inclusives), siendo a y b dos numeros solicitados por pantalla."
   ]
  },
  {
   "cell_type": "code",
   "execution_count": null,
   "metadata": {
    "id": "YW88kZZmJoe9"
   },
   "outputs": [],
   "source": [
    "# Respuesta aqui"
   ]
  },
  {
   "cell_type": "code",
   "execution_count": null,
   "metadata": {
    "id": "ZaUYpT9zJofJ"
   },
   "outputs": [],
   "source": [
    "# Respuesta aqui"
   ]
  },
  {
   "cell_type": "markdown",
   "metadata": {
    "id": "pOTeDzOfJofi"
   },
   "source": [
    "\n",
    "\n",
    "### Ejercicio 3 \n",
    "\n",
    "Usando list comprehension, escribe un programa que imprima la lista tras eliminar los elementos de la posición 0, 2, 4 y 6, de la lista [12,24,35,70,88,120,155]."
   ]
  },
  {
   "cell_type": "code",
   "execution_count": null,
   "metadata": {
    "id": "D-YNmZVIJofj"
   },
   "outputs": [],
   "source": [
    "# Respuesta aqui"
   ]
  },
  {
   "cell_type": "markdown",
   "metadata": {
    "id": "z4y3tMzBJoft"
   },
   "source": [
    "\n",
    "\n",
    "### Ejercicio 4\n",
    "\n",
    "Dada una oración, crea usando list comprehension una lista de enteros que contenga la longitud de cada palabra en la oración, sólo si la palabra no es \"el\".\n"
   ]
  },
  {
   "cell_type": "code",
   "execution_count": null,
   "metadata": {
    "id": "dYoZbsmYJofu"
   },
   "outputs": [],
   "source": [
    "# Respuesta aqui"
   ]
  },
  {
   "cell_type": "markdown",
   "metadata": {
    "id": "m5aECmazJof-"
   },
   "source": [
    "\n",
    "\n",
    "### Ejercicio 5\n",
    "\n",
    "Sea la lista:\n",
    "\n",
    "list_of_list = [[1,2,3],[4,5,6],[7,8]]\n",
    "\n",
    "Escribe usando list comprehension código tal que el resultado sea una lista así: \n",
    "\n",
    "[1, 2, 3, 4, 5, 6, 7, 8]"
   ]
  },
  {
   "cell_type": "code",
   "execution_count": null,
   "metadata": {
    "id": "4j8LYW9jJogB"
   },
   "outputs": [],
   "source": [
    "# Flatten `list_of_list`\n",
    "\n",
    "#Answer\n",
    "[y for x in list_of_list for y in x]"
   ]
  }
 ],
 "metadata": {
  "colab": {
   "name": "05_list_comprehension.ipynb",
   "provenance": [],
   "toc_visible": true
  },
  "kernelspec": {
   "display_name": "Python 3",
   "language": "python",
   "name": "python3"
  },
  "language_info": {
   "codemirror_mode": {
    "name": "ipython",
    "version": 3
   },
   "file_extension": ".py",
   "mimetype": "text/x-python",
   "name": "python",
   "nbconvert_exporter": "python",
   "pygments_lexer": "ipython3",
   "version": "3.7.6"
  }
 },
 "nbformat": 4,
 "nbformat_minor": 1
}
