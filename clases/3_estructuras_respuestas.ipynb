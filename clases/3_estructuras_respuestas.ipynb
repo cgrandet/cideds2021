{
 "cells": [
  {
   "cell_type": "markdown",
   "metadata": {
    "id": "8xRzCjCfJqq2"
   },
   "source": [
    "\n",
    "\n",
    "### Tuplas\n",
    "\n",
    "Una tupla es una secuencia de valores muy parecida a una lista. Los valores almacenados en una tupla pueden ser de cualquier tipo, y están indexados por enteros. Las tuplas se diferencian de las listas en que:\n",
    "\n",
    "1. No se puede modificar el valor de los elementos de una tupla (*objeto inmutable*).\n",
    "2. Se usan parentesis en lugar de corchetes para construir una tupla, aunque sintácticamente no es obligatorio."
   ]
  },
  {
   "cell_type": "markdown",
   "metadata": {
    "id": "Dy4wInIOJqq3"
   },
   "source": [
    "\n",
    "\n",
    "Crear una tupla"
   ]
  },
  {
   "cell_type": "code",
   "execution_count": 4,
   "metadata": {
    "id": "ejivymztJqq5"
   },
   "outputs": [],
   "source": [
    "mytuple1 = tuple()\n",
    "mytuple2 = ()\n",
    "mytuple3 = (1, 'a', 71.4)\n",
    "mytuple4 = 1, 'a', 71.4"
   ]
  },
  {
   "cell_type": "code",
   "execution_count": 5,
   "metadata": {
    "id": "sjucMJgyJqq_"
   },
   "outputs": [
    {
     "data": {
      "text/plain": [
       "(1, 'a', 71.4)"
      ]
     },
     "execution_count": 5,
     "metadata": {},
     "output_type": "execute_result"
    }
   ],
   "source": [
    "mytuple4"
   ]
  },
  {
   "cell_type": "markdown",
   "metadata": {
    "id": "07V76x3wJqrC"
   },
   "source": [
    "\n",
    "\n",
    "Error! Las tuplas son inmutables!"
   ]
  },
  {
   "cell_type": "code",
   "execution_count": 6,
   "metadata": {
    "id": "F2Mo-kgXJqrC"
   },
   "outputs": [
    {
     "ename": "TypeError",
     "evalue": "'tuple' object does not support item assignment",
     "output_type": "error",
     "traceback": [
      "\u001b[1;31m---------------------------------------------------------------------------\u001b[0m",
      "\u001b[1;31mTypeError\u001b[0m                                 Traceback (most recent call last)",
      "\u001b[1;32m<ipython-input-6-8081c7e5fc50>\u001b[0m in \u001b[0;36m<module>\u001b[1;34m\u001b[0m\n\u001b[1;32m----> 1\u001b[1;33m \u001b[0mmytuple3\u001b[0m\u001b[1;33m[\u001b[0m\u001b[1;36m1\u001b[0m\u001b[1;33m]\u001b[0m \u001b[1;33m=\u001b[0m \u001b[1;34m'b'\u001b[0m\u001b[1;33m\u001b[0m\u001b[1;33m\u001b[0m\u001b[0m\n\u001b[0m",
      "\u001b[1;31mTypeError\u001b[0m: 'tuple' object does not support item assignment"
     ]
    }
   ],
   "source": [
    "mytuple3[1] = 'b'"
   ]
  },
  {
   "cell_type": "markdown",
   "metadata": {
    "id": "D7Wqn8r1JqrG"
   },
   "source": [
    "\n",
    "\n",
    "Como en las listas, los elementos de una tupla se pueden acceder usando corchetes `[]` y el índice del elemento:"
   ]
  },
  {
   "cell_type": "code",
   "execution_count": 8,
   "metadata": {
    "id": "3wGTN6woJqrH"
   },
   "outputs": [
    {
     "data": {
      "text/plain": [
       "1"
      ]
     },
     "execution_count": 8,
     "metadata": {},
     "output_type": "execute_result"
    }
   ],
   "source": [
    "mytuple3[0]"
   ]
  },
  {
   "cell_type": "markdown",
   "metadata": {
    "id": "xCFiaw4hJqrK"
   },
   "source": [
    "\n",
    "\n",
    "Dos tuplas se pueden concatenar:"
   ]
  },
  {
   "cell_type": "code",
   "execution_count": 9,
   "metadata": {
    "id": "edUe-iR1JqrK"
   },
   "outputs": [],
   "source": [
    "tup1 = ('a','b','c', 'd')\n",
    "tup2 = ('d','f','g')"
   ]
  },
  {
   "cell_type": "code",
   "execution_count": 10,
   "metadata": {
    "id": "0JR0y5dbJqrQ"
   },
   "outputs": [
    {
     "data": {
      "text/plain": [
       "('a', 'b', 'c', 'd', 'd', 'f', 'g')"
      ]
     },
     "execution_count": 10,
     "metadata": {},
     "output_type": "execute_result"
    }
   ],
   "source": [
    "tup1 + tup2"
   ]
  },
  {
   "cell_type": "markdown",
   "metadata": {
    "id": "lFQvEaDsJqrS"
   },
   "source": [
    "\n",
    "\n",
    "Para saber que otros métodos de la librería estándar de Python podemos usar con los objetos de tipo tupla usamos la función `dir()`"
   ]
  },
  {
   "cell_type": "code",
   "execution_count": 11,
   "metadata": {
    "id": "iVPM4LtCJqrT"
   },
   "outputs": [
    {
     "data": {
      "text/plain": [
       "['__add__',\n",
       " '__class__',\n",
       " '__contains__',\n",
       " '__delattr__',\n",
       " '__dir__',\n",
       " '__doc__',\n",
       " '__eq__',\n",
       " '__format__',\n",
       " '__ge__',\n",
       " '__getattribute__',\n",
       " '__getitem__',\n",
       " '__getnewargs__',\n",
       " '__gt__',\n",
       " '__hash__',\n",
       " '__init__',\n",
       " '__init_subclass__',\n",
       " '__iter__',\n",
       " '__le__',\n",
       " '__len__',\n",
       " '__lt__',\n",
       " '__mul__',\n",
       " '__ne__',\n",
       " '__new__',\n",
       " '__reduce__',\n",
       " '__reduce_ex__',\n",
       " '__repr__',\n",
       " '__rmul__',\n",
       " '__setattr__',\n",
       " '__sizeof__',\n",
       " '__str__',\n",
       " '__subclasshook__',\n",
       " 'count',\n",
       " 'index']"
      ]
     },
     "execution_count": 11,
     "metadata": {},
     "output_type": "execute_result"
    }
   ],
   "source": [
    "dir(mytuple1)"
   ]
  },
  {
   "cell_type": "code",
   "execution_count": 12,
   "metadata": {
    "id": "I64Ja-FxJqrX"
   },
   "outputs": [],
   "source": [
    "mytuple1.count?"
   ]
  },
  {
   "cell_type": "code",
   "execution_count": 13,
   "metadata": {
    "id": "acro5U7IJqra"
   },
   "outputs": [
    {
     "data": {
      "text/plain": [
       "0"
      ]
     },
     "execution_count": 13,
     "metadata": {},
     "output_type": "execute_result"
    }
   ],
   "source": [
    "mytuple1.count(1)"
   ]
  },
  {
   "cell_type": "markdown",
   "metadata": {
    "id": "AWdyQizrJqrd"
   },
   "source": [
    "\n",
    "\n",
    "### Diccionarios\n",
    "\n",
    "Los diccionarios definen una relación uno a uno entre claves y valores. Los diccionarios son mutables y no ordenados.\n",
    "\n",
    "```\n",
    " { key1:value1 , key2:value2 , key3:value3 , ...}\n",
    " \n",
    "```\n",
    "\n",
    "En un diccionario las claves (key) son únicas e inmutables, pero los valores (value) si pueden cambiar."
   ]
  },
  {
   "cell_type": "code",
   "execution_count": 14,
   "metadata": {
    "id": "ZePx840gJqrf"
   },
   "outputs": [],
   "source": [
    "ages_hobbies = {'josh': [\"futbol\", \"tennis\"], 'lewis': 34, 'maria': True}"
   ]
  },
  {
   "cell_type": "code",
   "execution_count": 15,
   "metadata": {
    "colab": {
     "base_uri": "https://localhost:8080/",
     "height": 35
    },
    "id": "5rWIlJoqJqri",
    "outputId": "7c1df895-6a82-4473-d518-f5460e53356b"
   },
   "outputs": [
    {
     "data": {
      "text/plain": [
       "['futbol', 'tennis']"
      ]
     },
     "execution_count": 15,
     "metadata": {},
     "output_type": "execute_result"
    }
   ],
   "source": [
    "ages_hobbies[\"josh\"]"
   ]
  },
  {
   "cell_type": "markdown",
   "metadata": {
    "id": "A3Rl0yaNJqrm"
   },
   "source": [
    "\n",
    "\n",
    "Para acceder a los elementos de un diccionario se utilizan corchetes `[]` y la clave correspondiente."
   ]
  },
  {
   "cell_type": "code",
   "execution_count": 16,
   "metadata": {
    "colab": {
     "base_uri": "https://localhost:8080/",
     "height": 35
    },
    "id": "CW6BdumRJqrn",
    "outputId": "9fa92df1-4088-4468-b3eb-719b9f2acb80"
   },
   "outputs": [
    {
     "data": {
      "text/plain": [
       "(34, ['futbol', 'tennis'])"
      ]
     },
     "execution_count": 16,
     "metadata": {},
     "output_type": "execute_result"
    }
   ],
   "source": [
    "ages_hobbies['lewis'], ages_hobbies['josh']"
   ]
  },
  {
   "cell_type": "markdown",
   "metadata": {
    "id": "6wfp5sfkJqrq"
   },
   "source": [
    "\n",
    "\n",
    "Acceso a claves inexistentes devuelve KeyError"
   ]
  },
  {
   "cell_type": "code",
   "execution_count": 17,
   "metadata": {
    "colab": {
     "base_uri": "https://localhost:8080/",
     "height": 35
    },
    "id": "VyNSvsl-Jqrr",
    "outputId": "42d3ef14-d86d-470d-b14d-981945386796"
   },
   "outputs": [
    {
     "data": {
      "text/plain": [
       "34"
      ]
     },
     "execution_count": 17,
     "metadata": {},
     "output_type": "execute_result"
    }
   ],
   "source": [
    "ages_hobbies['lewis']"
   ]
  },
  {
   "cell_type": "markdown",
   "metadata": {
    "id": "dim9ZuYvJqrv"
   },
   "source": [
    "\n",
    "\n",
    "Aunque también podemos devolver un valor por defecto con el método `get`. El primer parámetro del método `get` es la clave de búsqueda, el segundo el valor por defecto."
   ]
  },
  {
   "cell_type": "code",
   "execution_count": 18,
   "metadata": {
    "colab": {
     "base_uri": "https://localhost:8080/",
     "height": 35
    },
    "id": "fwGmoDqtJqrw",
    "outputId": "dd06ca3b-37c7-4005-8619-c2919310754d"
   },
   "outputs": [
    {
     "data": {
      "text/plain": [
       "34"
      ]
     },
     "execution_count": 18,
     "metadata": {},
     "output_type": "execute_result"
    }
   ],
   "source": [
    "ages_hobbies.get('lewis',-1)"
   ]
  },
  {
   "cell_type": "markdown",
   "metadata": {
    "id": "zLIYQzBlJqr2"
   },
   "source": [
    "\n",
    "\n",
    "Asignación:"
   ]
  },
  {
   "cell_type": "code",
   "execution_count": 19,
   "metadata": {
    "colab": {
     "base_uri": "https://localhost:8080/",
     "height": 35
    },
    "id": "7tV1uqEDJqr3",
    "outputId": "fc46e3cc-d9fc-4482-d08f-98b41432fb77"
   },
   "outputs": [
    {
     "data": {
      "text/plain": [
       "{'josh': ['futbol', 'tennis'], 'lewis': 34, 'maria': True, 'baylee': 12}"
      ]
     },
     "execution_count": 19,
     "metadata": {},
     "output_type": "execute_result"
    }
   ],
   "source": [
    "ages_hobbies['baylee'] = 12\n",
    "ages_hobbies"
   ]
  },
  {
   "cell_type": "markdown",
   "metadata": {
    "id": "1bp972HzJqr8"
   },
   "source": [
    "\n",
    "\n",
    "Los elementos de un diccionarios no conservan el orden con el cual fueron creados."
   ]
  },
  {
   "cell_type": "code",
   "execution_count": 20,
   "metadata": {
    "colab": {
     "base_uri": "https://localhost:8080/",
     "height": 35
    },
    "id": "A2_LZrF4Jqr9",
    "outputId": "ef262832-6879-4f1d-913f-9d1d8d13aa2a"
   },
   "outputs": [
    {
     "name": "stdout",
     "output_type": "stream",
     "text": [
      "{'josh': ['futbol', 'tennis'], 'lewis': 34, 'maria': True, 'baylee': 12}\n"
     ]
    }
   ],
   "source": [
    "print(ages_hobbies)"
   ]
  },
  {
   "cell_type": "markdown",
   "metadata": {
    "id": "x2e2OYvLJqsC"
   },
   "source": [
    "\n",
    "\n",
    "Para crear un diccionario vacío:"
   ]
  },
  {
   "cell_type": "code",
   "execution_count": 21,
   "metadata": {
    "id": "NbX-euK1JqsF"
   },
   "outputs": [],
   "source": [
    "d = {}\n",
    "d1 = dict()"
   ]
  },
  {
   "cell_type": "markdown",
   "metadata": {},
   "source": [
    "#### Loops en diccionarios\n"
   ]
  },
  {
   "cell_type": "code",
   "execution_count": 22,
   "metadata": {},
   "outputs": [
    {
     "name": "stdout",
     "output_type": "stream",
     "text": [
      "\n",
      "Key: key_1\n",
      "Value: value_1\n",
      "\n",
      "Key: key_2\n",
      "Value: value_2\n",
      "\n",
      "Key: key_3\n",
      "Value: value_3\n"
     ]
    }
   ],
   "source": [
    "my_dict = {'key_1': 'value_1',\n",
    "    'key_2': 'value_2',\n",
    "    'key_3': 'value_3',\n",
    "    }\n",
    "\n",
    "for key, value in my_dict.items():\n",
    "    print('\\nKey: %s' % key)\n",
    "    print('Value: %s' % value)"
   ]
  },
  {
   "cell_type": "code",
   "execution_count": 23,
   "metadata": {},
   "outputs": [
    {
     "data": {
      "text/plain": [
       "{'key_1': 'value_1', 'key_2': 'value_2', 'key_3': 'value_3'}"
      ]
     },
     "execution_count": 23,
     "metadata": {},
     "output_type": "execute_result"
    }
   ],
   "source": [
    "my_dict"
   ]
  },
  {
   "cell_type": "code",
   "execution_count": 24,
   "metadata": {},
   "outputs": [
    {
     "data": {
      "text/plain": [
       "dict_items([('key_1', 'value_1'), ('key_2', 'value_2'), ('key_3', 'value_3')])"
      ]
     },
     "execution_count": 24,
     "metadata": {},
     "output_type": "execute_result"
    }
   ],
   "source": [
    "my_dict.items()"
   ]
  },
  {
   "cell_type": "code",
   "execution_count": 25,
   "metadata": {},
   "outputs": [
    {
     "name": "stdout",
     "output_type": "stream",
     "text": [
      "{'josh': ['futbol', 'tennis'], 'lewis': 34, 'maria': True, 'baylee': 12}\n"
     ]
    }
   ],
   "source": [
    "print(ages_hobbies)"
   ]
  },
  {
   "cell_type": "code",
   "execution_count": 26,
   "metadata": {},
   "outputs": [
    {
     "name": "stdout",
     "output_type": "stream",
     "text": [
      "\n",
      "Key: josh\n",
      "Value: ['futbol', 'tennis']\n",
      "\n",
      "Key: lewis\n",
      "Value: 34\n",
      "\n",
      "Key: maria\n",
      "Value: True\n",
      "\n",
      "Key: baylee\n",
      "Value: 12\n"
     ]
    }
   ],
   "source": [
    "for key, value in ages_hobbies.items():\n",
    "    print('\\nKey: %s' % key)\n",
    "    print('Value: %s' % value)"
   ]
  },
  {
   "cell_type": "code",
   "execution_count": 27,
   "metadata": {},
   "outputs": [
    {
     "name": "stdout",
     "output_type": "stream",
     "text": [
      "dict_items([('key_1', 'value_1'), ('key_2', 'value_2'), ('key_3', 'value_3')])\n"
     ]
    }
   ],
   "source": [
    "my_dict = {'key_1': 'value_1',\n",
    "    'key_2': 'value_2',\n",
    "    'key_3': 'value_3',\n",
    "    }\n",
    "\n",
    "print(my_dict.items())"
   ]
  },
  {
   "cell_type": "markdown",
   "metadata": {},
   "source": [
    "Loops a través de las llaves"
   ]
  },
  {
   "cell_type": "code",
   "execution_count": 28,
   "metadata": {},
   "outputs": [
    {
     "data": {
      "text/plain": [
       "dict_keys(['key_1', 'key_2', 'key_3'])"
      ]
     },
     "execution_count": 28,
     "metadata": {},
     "output_type": "execute_result"
    }
   ],
   "source": [
    "my_dict.keys()"
   ]
  },
  {
   "cell_type": "code",
   "execution_count": 29,
   "metadata": {},
   "outputs": [
    {
     "name": "stdout",
     "output_type": "stream",
     "text": [
      "Key: value_1\n",
      "Key: value_2\n",
      "Key: value_3\n"
     ]
    }
   ],
   "source": [
    "my_dict = {'key_1': 'value_1',\n",
    "    'key_2': 'value_2',\n",
    "    'key_3': 'value_3',\n",
    "    }\n",
    "\n",
    "for key in my_dict.values():\n",
    "    print('Key: %s' % key)"
   ]
  },
  {
   "cell_type": "markdown",
   "metadata": {},
   "source": [
    "Loops en orden"
   ]
  },
  {
   "cell_type": "code",
   "execution_count": 30,
   "metadata": {},
   "outputs": [
    {
     "data": {
      "text/plain": [
       "[('key_1', 'value_1'), ('key_2', 'value_2'), ('key_3', 'value_3')]"
      ]
     },
     "execution_count": 30,
     "metadata": {},
     "output_type": "execute_result"
    }
   ],
   "source": [
    "sorted(my_dict.items())"
   ]
  },
  {
   "cell_type": "code",
   "execution_count": 31,
   "metadata": {},
   "outputs": [
    {
     "name": "stdout",
     "output_type": "stream",
     "text": [
      "Key: juan value_2\n",
      "Key: pedro value_3\n",
      "Key: zacarias value_1\n"
     ]
    }
   ],
   "source": [
    "my_dict = {'zacarias': 'value_1',\n",
    "    'juan': 'value_2',\n",
    "    'pedro': 'value_3',\n",
    "    }\n",
    "\n",
    "for k, v in sorted(my_dict.items()):\n",
    "    print('Key: %s' % k, v)"
   ]
  },
  {
   "cell_type": "code",
   "execution_count": 32,
   "metadata": {},
   "outputs": [],
   "source": [
    "otro_dict = my_dict"
   ]
  },
  {
   "cell_type": "code",
   "execution_count": 33,
   "metadata": {},
   "outputs": [],
   "source": [
    "my_dict[\"juan\"] = \"value_4\""
   ]
  },
  {
   "cell_type": "code",
   "execution_count": 34,
   "metadata": {},
   "outputs": [
    {
     "data": {
      "text/plain": [
       "{'zacarias': 'value_1', 'juan': 'value_4', 'pedro': 'value_3'}"
      ]
     },
     "execution_count": 34,
     "metadata": {},
     "output_type": "execute_result"
    }
   ],
   "source": [
    "my_dict"
   ]
  },
  {
   "cell_type": "code",
   "execution_count": 35,
   "metadata": {},
   "outputs": [
    {
     "data": {
      "text/plain": [
       "{'zacarias': 'value_1', 'juan': 'value_4', 'pedro': 'value_3'}"
      ]
     },
     "execution_count": 35,
     "metadata": {},
     "output_type": "execute_result"
    }
   ],
   "source": [
    "otro_dict"
   ]
  },
  {
   "cell_type": "markdown",
   "metadata": {},
   "source": [
    "### Ejercicios Mascotas 1\n",
    "\n",
    "    - Genera un diccionario de 3 nombres de mascotas y su especie\n",
    "    - Imprime en un loop el nombre y la especie en una frase del estilo \"<Nombre de mascota> es un <especie>\""
   ]
  },
  {
   "cell_type": "markdown",
   "metadata": {},
   "source": [
    "<a name='nesting'></a>Nesting\n",
    "===\n",
    "El concepto de esto es tener una lista dentro de otro diccionario o lista"
   ]
  },
  {
   "cell_type": "code",
   "execution_count": 36,
   "metadata": {},
   "outputs": [
    {
     "name": "stdout",
     "output_type": "stream",
     "text": [
      "Ventas de eric:\n",
      "[3, 11, 19, 23, 42]\n",
      "\n",
      "Ventas de ever:\n",
      "[2, 4, 5]\n",
      "\n",
      "Ventas de willie:\n",
      "[5, 35, 120]\n"
     ]
    }
   ],
   "source": [
    "# Las ventas de esos empleados fueron\n",
    "sales = {'eric': [3, 11, 19, 23, 42],\n",
    "                    'ever': [2, 4, 5],\n",
    "                    'willie': [5, 35, 120]}\n",
    "\n",
    "                    \n",
    "print(\"Ventas de eric:\")\n",
    "print(sales['eric'])\n",
    "\n",
    "print(\"\\nVentas de ever:\")\n",
    "print(sales['ever'])\n",
    "\n",
    "print(\"\\nVentas de willie:\")\n",
    "print(sales['willie'])"
   ]
  },
  {
   "cell_type": "markdown",
   "metadata": {},
   "source": [
    "También es posible guardar información de varias cosas"
   ]
  },
  {
   "cell_type": "code",
   "execution_count": 37,
   "metadata": {},
   "outputs": [
    {
     "name": "stdout",
     "output_type": "stream",
     "text": [
      "3.7.6\n"
     ]
    }
   ],
   "source": [
    "from platform import python_version\n",
    "\n",
    "print(python_version())\n"
   ]
  },
  {
   "cell_type": "code",
   "execution_count": 38,
   "metadata": {},
   "outputs": [
    {
     "name": "stdout",
     "output_type": "stream",
     "text": [
      "\n",
      "Here is what I know about Bowie:\n",
      "kind: mixed\n",
      "owner: carlos\n",
      "vaccinated: True\n",
      "\n",
      "Here is what I know about Simone:\n",
      "kind: pitbull\n",
      "owner: carlos\n",
      "vaccinated: False\n",
      "\n",
      "Here is what I know about Marbs:\n",
      "kind: boston terries\n",
      "owner: andrea\n",
      "vaccinated: True\n"
     ]
    }
   ],
   "source": [
    "pets = {'bowie': {'kind': 'mixed', 'owner': \"carlos\", 'vaccinated': True},\n",
    "        'Simone': {'kind': 'pitbull', 'owner': 'carlos', 'vaccinated': False},\n",
    "        'Marbs': {'kind': 'boston terries', 'owner': 'andrea', 'vaccinated': True},\n",
    "        }\n",
    "\n",
    "for pet_name, pet_information in pets.items():\n",
    "    print(\"\\nHere is what I know about %s:\" % pet_name.title())\n",
    "    print(\"kind: \" + pet_information['kind'])\n",
    "    print(\"owner: \" + pet_information['owner'])\n",
    "    print(\"vaccinated: \" + str(pet_information['vaccinated']))"
   ]
  },
  {
   "cell_type": "code",
   "execution_count": 39,
   "metadata": {},
   "outputs": [
    {
     "data": {
      "text/plain": [
       "{'kind': 'mixed', 'owner': 'carlos', 'vaccinated': True}"
      ]
     },
     "execution_count": 39,
     "metadata": {},
     "output_type": "execute_result"
    }
   ],
   "source": [
    "pets[\"bowie\"]"
   ]
  },
  {
   "cell_type": "markdown",
   "metadata": {},
   "source": [
    "### Crear un diccionario a través de un loop"
   ]
  },
  {
   "cell_type": "code",
   "execution_count": 40,
   "metadata": {},
   "outputs": [],
   "source": [
    "nombres_perros = [\"Bowie\", \"Simone\", \"Marbs\"]\n",
    "razas = [\"Mixed\", \"Labrador\", \"Boston Terrier\"]\n",
    "owners = [\"Carlos\", \"Carlos\", \"Andrea\"]\n",
    "vaccined_list = [True, False, True]"
   ]
  },
  {
   "cell_type": "code",
   "execution_count": 41,
   "metadata": {},
   "outputs": [
    {
     "data": {
      "text/plain": [
       "[('Bowie', 'Mixed', 'Carlos', True),\n",
       " ('Simone', 'Labrador', 'Carlos', False),\n",
       " ('Marbs', 'Boston Terrier', 'Andrea', True)]"
      ]
     },
     "execution_count": 41,
     "metadata": {},
     "output_type": "execute_result"
    }
   ],
   "source": [
    "list(zip(nombres_perros, razas, owners, vaccined_list))\n"
   ]
  },
  {
   "cell_type": "code",
   "execution_count": 42,
   "metadata": {},
   "outputs": [],
   "source": [
    "dict_perros = {}\n",
    "for nombre, raza_value, owner_value, vaccined_value in zip(nombres_perros, razas, owners, vaccined_list):\n",
    "    dict_perros[nombre] = {}\n",
    "    dict_perros[nombre][\"raza\"] = raza_value\n",
    "    dict_perros[nombre][\"owner\"] = owner_value\n",
    "    dict_perros[nombre][\"vaccined\"] = vaccined_value"
   ]
  },
  {
   "cell_type": "code",
   "execution_count": 43,
   "metadata": {},
   "outputs": [
    {
     "data": {
      "text/plain": [
       "{'Bowie': {'raza': 'Mixed', 'owner': 'Carlos', 'vaccined': True},\n",
       " 'Simone': {'raza': 'Labrador', 'owner': 'Carlos', 'vaccined': False},\n",
       " 'Marbs': {'raza': 'Boston Terrier', 'owner': 'Andrea', 'vaccined': True}}"
      ]
     },
     "execution_count": 43,
     "metadata": {},
     "output_type": "execute_result"
    }
   ],
   "source": [
    "dict_perros"
   ]
  },
  {
   "cell_type": "markdown",
   "metadata": {},
   "source": [
    "¿Qué pasaría con este código?"
   ]
  },
  {
   "cell_type": "code",
   "execution_count": 44,
   "metadata": {},
   "outputs": [],
   "source": [
    "dict_perros = {}\n",
    "for nombre, raza, owner, vaccined in zip(nombres_perros, razas, owners, vaccined_list):\n",
    "    \n",
    "    dict_perros[nombre] = {}\n",
    "    dict_perros[nombre][\"raza\"] = raza\n",
    "    dict_perros[nombre][\"owner\"] = owner\n",
    "    dict_perros[nombre][\"vaccined\"] = vaccined"
   ]
  },
  {
   "cell_type": "code",
   "execution_count": 45,
   "metadata": {},
   "outputs": [
    {
     "data": {
      "text/plain": [
       "{'Bowie': {'raza': 'Mixed', 'owner': 'Carlos', 'vaccined': True},\n",
       " 'Simone': {'raza': 'Labrador', 'owner': 'Carlos', 'vaccined': False},\n",
       " 'Marbs': {'raza': 'Boston Terrier', 'owner': 'Andrea', 'vaccined': True}}"
      ]
     },
     "execution_count": 45,
     "metadata": {},
     "output_type": "execute_result"
    }
   ],
   "source": [
    "dict_perros"
   ]
  },
  {
   "cell_type": "markdown",
   "metadata": {},
   "source": [
    "### Ejercicios\n",
    "#### <a name='exercise_mountain_heights'></a>Mascotas 2\n",
    "\n",
    "- ¿Cómo cambiarías el valor si Simone se vacunó? \n"
   ]
  },
  {
   "cell_type": "code",
   "execution_count": 46,
   "metadata": {},
   "outputs": [],
   "source": [
    "dict_perros[\"Simone\"][\"vaccined\"] = True"
   ]
  },
  {
   "cell_type": "markdown",
   "metadata": {},
   "source": [
    "- ¿Como agregarías la edad de todos los perros; 1, 5 y 8 respectivamente?\n"
   ]
  },
  {
   "cell_type": "code",
   "execution_count": 47,
   "metadata": {},
   "outputs": [],
   "source": [
    "edad_perros = [1,5,8]\n",
    "\n",
    "for nombre, edad in zip(dict_perros.keys(), edad_perros):\n",
    "    dict_perros[nombre][\"age\"] = edad"
   ]
  },
  {
   "cell_type": "code",
   "execution_count": 48,
   "metadata": {},
   "outputs": [
    {
     "data": {
      "text/plain": [
       "{'Bowie': {'raza': 'Mixed', 'owner': 'Carlos', 'vaccined': True, 'age': 1},\n",
       " 'Simone': {'raza': 'Labrador', 'owner': 'Carlos', 'vaccined': True, 'age': 5},\n",
       " 'Marbs': {'raza': 'Boston Terrier',\n",
       "  'owner': 'Andrea',\n",
       "  'vaccined': True,\n",
       "  'age': 8}}"
      ]
     },
     "execution_count": 48,
     "metadata": {},
     "output_type": "execute_result"
    }
   ],
   "source": [
    "dict_perros"
   ]
  },
  {
   "cell_type": "markdown",
   "metadata": {},
   "source": [
    "- ¿Cómo agregarías a Rupi, otro perro, del qué sólo sabes su dueño: Idalia?"
   ]
  },
  {
   "cell_type": "code",
   "execution_count": 49,
   "metadata": {},
   "outputs": [
    {
     "data": {
      "text/plain": [
       "{'Bowie': {'raza': 'Mixed', 'owner': 'Carlos', 'vaccined': True, 'age': 1},\n",
       " 'Simone': {'raza': 'Labrador', 'owner': 'Carlos', 'vaccined': True, 'age': 5},\n",
       " 'Marbs': {'raza': 'Boston Terrier',\n",
       "  'owner': 'Andrea',\n",
       "  'vaccined': True,\n",
       "  'age': 8},\n",
       " 'Rupi': {'owner': 'Idalia'}}"
      ]
     },
     "execution_count": 49,
     "metadata": {},
     "output_type": "execute_result"
    }
   ],
   "source": [
    "dict_perros[\"Rupi\"] = {\"owner\": \"Idalia\"}\n",
    "dict_perros"
   ]
  },
  {
   "cell_type": "markdown",
   "metadata": {
    "id": "46HT85iiJqsJ"
   },
   "source": [
    "\n",
    "\n",
    "## Sets"
   ]
  },
  {
   "cell_type": "markdown",
   "metadata": {
    "id": "f-28jCTlJqsL"
   },
   "source": [
    "\n",
    "\n",
    "Coleccion **no ordenada** de elementos del mismo o distinto tipo (incluso puede tener sets como elementos), que se caracteriza por ser **sin elementos duplicados**.\n",
    "\n",
    "Los usos más tipicos son testing de pertenencia, y eliminar entradas duplicadas. \n",
    "\n",
    "Al ser la implementación de un concepto matemático, los conjuntos, soporta operaciones matemáticas como unión, intersección, diferencia, y diferencia simétrica. \n",
    "\n",
    "Se crean con {} o con la función set(). \n",
    "\n",
    "Nota: para crear un set vacío, hay que usar la función set(). No se puede usar {} pues crea un diccionario vacío."
   ]
  },
  {
   "cell_type": "code",
   "execution_count": 50,
   "metadata": {
    "id": "4pSfyHq1JqsM"
   },
   "outputs": [
    {
     "data": {
      "text/plain": [
       "{'Atlanta', 'Barcelona', 'Madrid'}"
      ]
     },
     "execution_count": 50,
     "metadata": {},
     "output_type": "execute_result"
    }
   ],
   "source": [
    "cities =  {'Madrid', 'Barcelona', 'Atlanta'}\n",
    "\n",
    "cities"
   ]
  },
  {
   "cell_type": "code",
   "execution_count": 51,
   "metadata": {
    "id": "LvMnLuVpJqsR"
   },
   "outputs": [
    {
     "data": {
      "text/plain": [
       "{' ', 'A', 'B', 'e', 'i', 'n', 'o', 'r', 's', 'u'}"
      ]
     },
     "execution_count": 51,
     "metadata": {},
     "output_type": "execute_result"
    }
   ],
   "source": [
    "cities = set(\"Buenos Aires\")\n",
    "cities"
   ]
  },
  {
   "cell_type": "code",
   "execution_count": 52,
   "metadata": {
    "id": "fpmZzB2kJqsU"
   },
   "outputs": [
    {
     "data": {
      "text/plain": [
       "{'Berlin', 'Birmingham', 'London', 'Lyon', 'Paris'}"
      ]
     },
     "execution_count": 52,
     "metadata": {},
     "output_type": "execute_result"
    }
   ],
   "source": [
    "cities = set((\"Paris\", \"Lyon\", \"London\",\"Berlin\",\"Paris\",\"Birmingham\"))\n",
    "cities"
   ]
  },
  {
   "cell_type": "code",
   "execution_count": 53,
   "metadata": {
    "id": "5aI1MR2uJqsY"
   },
   "outputs": [
    {
     "data": {
      "text/plain": [
       "{('Paris', 'Berlin', 'London'), ('Python', 'Perl')}"
      ]
     },
     "execution_count": 53,
     "metadata": {},
     "output_type": "execute_result"
    }
   ],
   "source": [
    "cities = set(((\"Python\",\"Perl\"), (\"Paris\", \"Berlin\", \"London\")))\n",
    "cities"
   ]
  },
  {
   "cell_type": "markdown",
   "metadata": {
    "id": "7DnJizC1JqtH"
   },
   "source": [
    "\n",
    "\n",
    "Operaciones con sets"
   ]
  },
  {
   "cell_type": "code",
   "execution_count": 54,
   "metadata": {
    "id": "qJQASDcjJqtH"
   },
   "outputs": [
    {
     "data": {
      "text/plain": [
       "{'a', 'b', 'c', 'd', 'e', 'f', 'g', 'h'}"
      ]
     },
     "execution_count": 54,
     "metadata": {},
     "output_type": "execute_result"
    }
   ],
   "source": [
    "a= set('abcdefghh')\n",
    "b = set('defghijklmn')\n",
    "a                                  # unique letters -no duplicates- in a"
   ]
  },
  {
   "cell_type": "code",
   "execution_count": 55,
   "metadata": {
    "id": "1ZD6RDAuJqtL"
   },
   "outputs": [
    {
     "data": {
      "text/plain": [
       "{'a', 'b', 'c'}"
      ]
     },
     "execution_count": 55,
     "metadata": {},
     "output_type": "execute_result"
    }
   ],
   "source": [
    "a - b                              # letters in a but not in b"
   ]
  },
  {
   "cell_type": "code",
   "execution_count": 56,
   "metadata": {
    "id": "wK3HF6U6JqtO"
   },
   "outputs": [
    {
     "data": {
      "text/plain": [
       "{'a', 'b', 'c', 'd', 'e', 'f', 'g', 'h', 'i', 'j', 'k', 'l', 'm', 'n'}"
      ]
     },
     "execution_count": 56,
     "metadata": {},
     "output_type": "execute_result"
    }
   ],
   "source": [
    "a | b                              # letters in a or b"
   ]
  },
  {
   "cell_type": "code",
   "execution_count": 57,
   "metadata": {
    "id": "7Mue_fF4JqtU"
   },
   "outputs": [
    {
     "data": {
      "text/plain": [
       "{'d', 'e', 'f', 'g', 'h'}"
      ]
     },
     "execution_count": 57,
     "metadata": {},
     "output_type": "execute_result"
    }
   ],
   "source": [
    "a & b                              # letters in both a and b"
   ]
  },
  {
   "cell_type": "code",
   "execution_count": 58,
   "metadata": {
    "id": "Cnp6BIK3JqtY"
   },
   "outputs": [
    {
     "data": {
      "text/plain": [
       "{'a', 'b', 'c', 'i', 'j', 'k', 'l', 'm', 'n'}"
      ]
     },
     "execution_count": 58,
     "metadata": {},
     "output_type": "execute_result"
    }
   ],
   "source": [
    "a ^ b                              # letters in a or b but not both"
   ]
  }
 ],
 "metadata": {
  "colab": {
   "name": "04_data_structures.ipynb",
   "provenance": [],
   "toc_visible": true
  },
  "kernelspec": {
   "display_name": "Python 3",
   "language": "python",
   "name": "python3"
  },
  "language_info": {
   "codemirror_mode": {
    "name": "ipython",
    "version": 3
   },
   "file_extension": ".py",
   "mimetype": "text/x-python",
   "name": "python",
   "nbconvert_exporter": "python",
   "pygments_lexer": "ipython3",
   "version": "3.7.6"
  }
 },
 "nbformat": 4,
 "nbformat_minor": 1
}
