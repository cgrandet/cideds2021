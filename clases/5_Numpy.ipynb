{
  "nbformat": 4,
  "nbformat_minor": 0,
  "metadata": {
    "language_info": {
      "mimetype": "text/x-python",
      "pygments_lexer": "ipython3",
      "version": "3.7.1",
      "codemirror_mode": {
        "name": "ipython",
        "version": 3
      },
      "file_extension": ".py",
      "name": "python",
      "nbconvert_exporter": "python"
    },
    "toc": {
      "base_numbering": 1,
      "title_cell": "Table of Contents",
      "toc_section_display": true,
      "sideBar": true,
      "nav_menu": {},
      "number_sections": true,
      "toc_window_display": true,
      "toc_position": {
        "left": "10px",
        "height": "calc(100% - 180px)",
        "top": "150px",
        "width": "286px"
      },
      "skip_h1_title": false,
      "toc_cell": false,
      "title_sidebar": "Contents"
    },
    "kernelspec": {
      "language": "python",
      "name": "python3",
      "display_name": "Python 3"
    },
    "colab": {
      "name": "05_numpy.ipynb",
      "provenance": []
    }
  },
  "cells": [
    {
      "cell_type": "markdown",
      "metadata": {
        "id": "zjVcbd1wliNw"
      },
      "source": [
        "\n",
        "\n",
        "---\n",
        "\n",
        "# Numpy\n",
        "\n",
        "\n",
        "Sinonimo de *Numerical Python*, `numpy` es una librería que proporciona herramientas para trabajar con alto rendimiento sobre arreglos multidimensionales. \n",
        "\n",
        "\n",
        "## Características\n",
        "Dentro de las principales características de `numpy` se encuentran:\n",
        "- Ofrece un poderoso objeto para manipular arreglos multidimensionales: `ndarray`.\n",
        "- Posee herramientas para realizar operaciones matemáticas y lógicas sobre arreglos, operaciones relacionadas con algebra lineal, transformadas de Fourier, entre otras.\n",
        "\n",
        "Para importar los módulos de la librería `numpy`, por convención se utiliza:"
      ]
    },
    {
      "cell_type": "code",
      "metadata": {
        "id": "SH08LQW2liNx"
      },
      "source": [
        "import numpy as np   # 'np' alias de numpy"
      ],
      "execution_count": null,
      "outputs": []
    },
    {
      "cell_type": "markdown",
      "metadata": {
        "id": "_lCYubbSliN2"
      },
      "source": [
        "\n",
        "\n",
        "---\n",
        "# Arrays\n",
        "\n",
        "\n",
        "Las funcionalidades de `numpy` se basan en en el objeto `ndarray`.\n",
        "\n",
        "Un `ndarray`, también conocido por el alias de `array`, es un arreglo N-dimensional con elementos del mismo tipo e indexado por una tupla de enteros positivos.\n",
        "\n",
        "\n",
        "```python\n",
        "a = numpy.array(data, dtype = None, ndmin = 0, ...)\n",
        "```\n",
        "- data: datos de mismo tipo en forma de matriz o una secuencia anidada.\n",
        "- dtype (opcional): tipos de datos deseados en el arreglo. \n",
        "- ndmin: especifica el número mínimo de dimensiones del arreglo resultante."
      ]
    },
    {
      "cell_type": "markdown",
      "metadata": {
        "id": "1RY_vGBOliN3"
      },
      "source": [
        "\n",
        "\n",
        "## Creación de Arrays\n",
        "\n",
        "La forma mas facil de crear un arreglo es utilizando el objeto `ndarray`."
      ]
    },
    {
      "cell_type": "code",
      "metadata": {
        "id": "UVaR2xsWliN3",
        "outputId": "921c61dd-e7f1-4936-a548-408c521817ad",
        "colab": {
          "base_uri": "https://localhost:8080/",
          "height": 70
        }
      },
      "source": [
        "a = np.array([[0,1,2,3],[3,2,1,0],[1,1,1,1]])  \n",
        "a"
      ],
      "execution_count": null,
      "outputs": [
        {
          "output_type": "execute_result",
          "data": {
            "text/plain": [
              "array([[0, 1, 2, 3],\n",
              "       [3, 2, 1, 0],\n",
              "       [1, 1, 1, 1]])"
            ]
          },
          "metadata": {
            "tags": []
          },
          "execution_count": 3
        }
      ]
    },
    {
      "cell_type": "markdown",
      "metadata": {
        "id": "ZLcwDi0WliN8"
      },
      "source": [
        "\n",
        "\n",
        "Dentro de los principales atributos del objeto `ndarray`, se encuentran:\n",
        "- `ndarray.shape`: tupla con las dimensiones del arreglo. \n",
        "- `ndarray.ndim`: numero de dimensiones del arreglo.\n",
        "- `ndarray.size`: número de elementos del arreglo.\n",
        "- `ndarray.dtype`: tipo de dato de los elementos del arreglo. "
      ]
    },
    {
      "cell_type": "code",
      "metadata": {
        "id": "fma9LMBWliN8",
        "outputId": "7900a701-b080-4aa9-ff37-8a977e589785",
        "colab": {
          "base_uri": "https://localhost:8080/",
          "height": 35
        }
      },
      "source": [
        "a.shape"
      ],
      "execution_count": null,
      "outputs": [
        {
          "output_type": "execute_result",
          "data": {
            "text/plain": [
              "(3, 4)"
            ]
          },
          "metadata": {
            "tags": []
          },
          "execution_count": 4
        }
      ]
    },
    {
      "cell_type": "code",
      "metadata": {
        "id": "cNAQ2UZFliOA",
        "outputId": "b4f960cb-f46d-4eca-f049-7c7812b43176",
        "colab": {
          "base_uri": "https://localhost:8080/",
          "height": 35
        }
      },
      "source": [
        "a.ndim"
      ],
      "execution_count": null,
      "outputs": [
        {
          "output_type": "execute_result",
          "data": {
            "text/plain": [
              "2"
            ]
          },
          "metadata": {
            "tags": []
          },
          "execution_count": 5
        }
      ]
    },
    {
      "cell_type": "code",
      "metadata": {
        "id": "wrVdb8hzliOE",
        "outputId": "9d49e17c-1055-4f35-b8d3-7b97a29d3318",
        "colab": {
          "base_uri": "https://localhost:8080/",
          "height": 35
        }
      },
      "source": [
        "a.size"
      ],
      "execution_count": null,
      "outputs": [
        {
          "output_type": "execute_result",
          "data": {
            "text/plain": [
              "12"
            ]
          },
          "metadata": {
            "tags": []
          },
          "execution_count": 6
        }
      ]
    },
    {
      "cell_type": "code",
      "metadata": {
        "id": "qY3LCz4IliOJ",
        "outputId": "1db868e8-286b-4e62-b8c1-e88c202c2eb1",
        "colab": {
          "base_uri": "https://localhost:8080/",
          "height": 35
        }
      },
      "source": [
        "a.dtype"
      ],
      "execution_count": null,
      "outputs": [
        {
          "output_type": "execute_result",
          "data": {
            "text/plain": [
              "dtype('int64')"
            ]
          },
          "metadata": {
            "tags": []
          },
          "execution_count": 7
        }
      ]
    },
    {
      "cell_type": "markdown",
      "metadata": {
        "id": "003s4EuIliOO"
      },
      "source": [
        "\n",
        "\n",
        "Numpy cuenta con funciones especiales para crear arreglos con valores definidos por defecto, por ejemplo:\n",
        "- **zeros**: crea arreglo solamente con 0's.\n",
        "- **ones**: crea arreglo solamente con 1's.\n",
        "- **eye**: crea una matriz identidad de tamaño n.\n",
        "- **empty**: crea un arreglo sin inicializar de forma y dtype especificados.\n",
        "- **full**: crea un arreglo con un valor constante especificado."
      ]
    },
    {
      "cell_type": "code",
      "metadata": {
        "id": "PiNLcGZXliOO",
        "outputId": "b6a147ff-9d59-4846-b81a-b619f2a303e4",
        "colab": {
          "base_uri": "https://localhost:8080/",
          "height": 70
        }
      },
      "source": [
        "np.zeros((3,3))"
      ],
      "execution_count": null,
      "outputs": [
        {
          "output_type": "execute_result",
          "data": {
            "text/plain": [
              "array([[0., 0., 0.],\n",
              "       [0., 0., 0.],\n",
              "       [0., 0., 0.]])"
            ]
          },
          "metadata": {
            "tags": []
          },
          "execution_count": 8
        }
      ]
    },
    {
      "cell_type": "code",
      "metadata": {
        "id": "0dC_bfwAliOT",
        "outputId": "efde8a22-9a5d-430b-d7b6-128ab83ffff8",
        "colab": {
          "base_uri": "https://localhost:8080/",
          "height": 106
        }
      },
      "source": [
        "np.ones([5,1])"
      ],
      "execution_count": null,
      "outputs": [
        {
          "output_type": "execute_result",
          "data": {
            "text/plain": [
              "array([[1.],\n",
              "       [1.],\n",
              "       [1.],\n",
              "       [1.],\n",
              "       [1.]])"
            ]
          },
          "metadata": {
            "tags": []
          },
          "execution_count": 9
        }
      ]
    },
    {
      "cell_type": "code",
      "metadata": {
        "id": "wuSB8QTYliOX",
        "outputId": "7188422b-1aca-4b33-82a8-fc66fbbf954d",
        "colab": {
          "base_uri": "https://localhost:8080/",
          "height": 88
        }
      },
      "source": [
        "np.eye(4)"
      ],
      "execution_count": null,
      "outputs": [
        {
          "output_type": "execute_result",
          "data": {
            "text/plain": [
              "array([[1., 0., 0., 0.],\n",
              "       [0., 1., 0., 0.],\n",
              "       [0., 0., 1., 0.],\n",
              "       [0., 0., 0., 1.]])"
            ]
          },
          "metadata": {
            "tags": []
          },
          "execution_count": 10
        }
      ]
    },
    {
      "cell_type": "code",
      "metadata": {
        "id": "UR90A1nUliOb",
        "outputId": "90a64ed5-b1fe-44c2-e246-efda01da9242",
        "colab": {
          "base_uri": "https://localhost:8080/",
          "height": 52
        }
      },
      "source": [
        "np.empty((2,3), dtype=int)"
      ],
      "execution_count": null,
      "outputs": [
        {
          "output_type": "execute_result",
          "data": {
            "text/plain": [
              "array([[73810112,        0,        0],\n",
              "       [       0,        0,        0]])"
            ]
          },
          "metadata": {
            "tags": []
          },
          "execution_count": 11
        }
      ]
    },
    {
      "cell_type": "markdown",
      "metadata": {
        "id": "DBWZsLfJliOh"
      },
      "source": [
        "\n",
        "\n",
        "## Aritmética con Arrays\n",
        "\n",
        "El objeto `ndarray` es importante porque permite realizar cualquier operación entre arreglos sin escribir ningún bucle *for*.\n",
        "\n",
        "Cualquier operación aritmética con arreglos del mismo tamaño aplica una operación elemento a elemento:"
      ]
    },
    {
      "cell_type": "code",
      "metadata": {
        "id": "fIP4KG5gliOi",
        "outputId": "403614f3-358c-4955-c7cb-54c783b38308",
        "colab": {
          "base_uri": "https://localhost:8080/",
          "height": 70
        }
      },
      "source": [
        "a*a"
      ],
      "execution_count": null,
      "outputs": [
        {
          "output_type": "execute_result",
          "data": {
            "text/plain": [
              "array([[0, 1, 4, 9],\n",
              "       [9, 4, 1, 0],\n",
              "       [1, 1, 1, 1]])"
            ]
          },
          "metadata": {
            "tags": []
          },
          "execution_count": 12
        }
      ]
    },
    {
      "cell_type": "code",
      "metadata": {
        "id": "_Bcy4xm9liOm",
        "outputId": "6e09e8f1-707f-464e-a7f2-4f5d8a1151f4",
        "colab": {
          "base_uri": "https://localhost:8080/",
          "height": 70
        }
      },
      "source": [
        "a+a"
      ],
      "execution_count": null,
      "outputs": [
        {
          "output_type": "execute_result",
          "data": {
            "text/plain": [
              "array([[0, 2, 4, 6],\n",
              "       [6, 4, 2, 0],\n",
              "       [2, 2, 2, 2]])"
            ]
          },
          "metadata": {
            "tags": []
          },
          "execution_count": 13
        }
      ]
    },
    {
      "cell_type": "markdown",
      "metadata": {
        "id": "E0MgeQsqliOr"
      },
      "source": [
        "\n",
        "\n",
        "Las operaciones aritméticas con escalares se aplica a cada elemento del arreglo."
      ]
    },
    {
      "cell_type": "code",
      "metadata": {
        "id": "PMSotifAliOt",
        "outputId": "19ebbf6a-58e0-4947-ff87-be88e26007a2",
        "colab": {
          "base_uri": "https://localhost:8080/",
          "height": 70
        }
      },
      "source": [
        "2*a"
      ],
      "execution_count": null,
      "outputs": [
        {
          "output_type": "execute_result",
          "data": {
            "text/plain": [
              "array([[0, 2, 4, 6],\n",
              "       [6, 4, 2, 0],\n",
              "       [2, 2, 2, 2]])"
            ]
          },
          "metadata": {
            "tags": []
          },
          "execution_count": 14
        }
      ]
    },
    {
      "cell_type": "code",
      "metadata": {
        "id": "F_ttYa4iliOw",
        "outputId": "56cf1ae1-1fa3-44c3-c031-99a05683b05a",
        "colab": {
          "base_uri": "https://localhost:8080/",
          "height": 70
        }
      },
      "source": [
        "1+a"
      ],
      "execution_count": null,
      "outputs": [
        {
          "output_type": "execute_result",
          "data": {
            "text/plain": [
              "array([[1, 2, 3, 4],\n",
              "       [4, 3, 2, 1],\n",
              "       [2, 2, 2, 2]])"
            ]
          },
          "metadata": {
            "tags": []
          },
          "execution_count": 15
        }
      ]
    },
    {
      "cell_type": "markdown",
      "metadata": {
        "id": "ipMCbsA6liO1"
      },
      "source": [
        "\n",
        "\n",
        "Finalmente, las comparaciones entre arreglos de la misma dimensión generan un arreglo booleano."
      ]
    },
    {
      "cell_type": "code",
      "metadata": {
        "id": "-1xVZshQliO1",
        "outputId": "f526bca1-81c6-43f7-a9ab-c27be616b6c7",
        "colab": {
          "base_uri": "https://localhost:8080/",
          "height": 70
        }
      },
      "source": [
        "b = np.ones([3,4])  \n",
        "a>b"
      ],
      "execution_count": null,
      "outputs": [
        {
          "output_type": "execute_result",
          "data": {
            "text/plain": [
              "array([[False, False,  True,  True],\n",
              "       [ True,  True, False, False],\n",
              "       [False, False, False, False]])"
            ]
          },
          "metadata": {
            "tags": []
          },
          "execution_count": 16
        }
      ]
    },
    {
      "cell_type": "markdown",
      "metadata": {
        "id": "twQ3aDXLliO4"
      },
      "source": [
        "\n",
        "\n",
        "##  Indexing y slicing en Arrays\n",
        "\n",
        "Tecnicas muy similares de *indexing* y *slicing* para acceder a las *listas de Python* son también utilizadas en los *Arrays de Numpy*. Sin embargo, una de las principales diferencias es que los subconjuntos son vistas, es decir, cualquier cambio modifica directamente al array original.\n"
      ]
    },
    {
      "cell_type": "code",
      "metadata": {
        "id": "IJNxlAzqliO6",
        "outputId": "fdac9824-c939-4f61-d8c4-cdfcc8a938ac",
        "colab": {
          "base_uri": "https://localhost:8080/",
          "height": 35
        }
      },
      "source": [
        "a = np.arange(10)\n",
        "a"
      ],
      "execution_count": null,
      "outputs": [
        {
          "output_type": "execute_result",
          "data": {
            "text/plain": [
              "array([0, 1, 2, 3, 4, 5, 6, 7, 8, 9])"
            ]
          },
          "metadata": {
            "tags": []
          },
          "execution_count": 17
        }
      ]
    },
    {
      "cell_type": "code",
      "metadata": {
        "id": "_9BnfHmfliO-",
        "outputId": "5664f83f-2b66-4e8b-f84e-26d5ea5a32e8",
        "colab": {
          "base_uri": "https://localhost:8080/",
          "height": 35
        }
      },
      "source": [
        "a[3:6] =10\n",
        "a"
      ],
      "execution_count": null,
      "outputs": [
        {
          "output_type": "execute_result",
          "data": {
            "text/plain": [
              "array([ 0,  1,  2, 10, 10, 10,  6,  7,  8,  9])"
            ]
          },
          "metadata": {
            "tags": []
          },
          "execution_count": 18
        }
      ]
    },
    {
      "cell_type": "code",
      "metadata": {
        "id": "dqBnedOJliPC",
        "outputId": "a1c8b43e-47ed-45b3-a4c1-1efaf39d916f",
        "colab": {
          "base_uri": "https://localhost:8080/",
          "height": 35
        }
      },
      "source": [
        "b = a[3:6]\n",
        "b[:] = 5\n",
        "a"
      ],
      "execution_count": null,
      "outputs": [
        {
          "output_type": "execute_result",
          "data": {
            "text/plain": [
              "array([0, 1, 2, 5, 5, 5, 6, 7, 8, 9])"
            ]
          },
          "metadata": {
            "tags": []
          },
          "execution_count": 19
        }
      ]
    },
    {
      "cell_type": "markdown",
      "metadata": {
        "id": "lQvvItD0liPF"
      },
      "source": [
        "\n",
        "\n",
        "Si se quiere copiar una parte de un arreglo en lugar de una vista, es necesario copiar explícitamente el arreglo."
      ]
    },
    {
      "cell_type": "code",
      "metadata": {
        "id": "FdW6XcerliPF"
      },
      "source": [
        "b = a[3:6].copy()"
      ],
      "execution_count": null,
      "outputs": []
    },
    {
      "cell_type": "code",
      "metadata": {
        "id": "i-iQtm3ZliPJ",
        "outputId": "3d7a3ab7-a94b-4800-80c2-42520843a463",
        "colab": {
          "base_uri": "https://localhost:8080/",
          "height": 35
        }
      },
      "source": [
        "b[:2]=1\n",
        "b"
      ],
      "execution_count": null,
      "outputs": [
        {
          "output_type": "execute_result",
          "data": {
            "text/plain": [
              "array([1, 1, 5])"
            ]
          },
          "metadata": {
            "tags": []
          },
          "execution_count": 21
        }
      ]
    },
    {
      "cell_type": "code",
      "metadata": {
        "id": "7qsmQrQ7liPM",
        "outputId": "c6612d38-aec8-4db9-df9f-7631e2fe918b",
        "colab": {
          "base_uri": "https://localhost:8080/",
          "height": 35
        }
      },
      "source": [
        "a"
      ],
      "execution_count": null,
      "outputs": [
        {
          "output_type": "execute_result",
          "data": {
            "text/plain": [
              "array([0, 1, 2, 5, 5, 5, 6, 7, 8, 9])"
            ]
          },
          "metadata": {
            "tags": []
          },
          "execution_count": 22
        }
      ]
    },
    {
      "cell_type": "markdown",
      "metadata": {
        "id": "Ki-6yQvCliPP"
      },
      "source": [
        "\n",
        "\n",
        "El principo es el mismo para arreglos multidimensionales."
      ]
    },
    {
      "cell_type": "code",
      "metadata": {
        "id": "PDzqvMbgliPQ",
        "outputId": "60197b89-bb4b-4e2f-d272-d8285fcd445d",
        "colab": {
          "base_uri": "https://localhost:8080/",
          "height": 355
        }
      },
      "source": [
        "a = np.arange(64).reshape(4,4,4)\n",
        "a"
      ],
      "execution_count": null,
      "outputs": [
        {
          "output_type": "execute_result",
          "data": {
            "text/plain": [
              "array([[[ 0,  1,  2,  3],\n",
              "        [ 4,  5,  6,  7],\n",
              "        [ 8,  9, 10, 11],\n",
              "        [12, 13, 14, 15]],\n",
              "\n",
              "       [[16, 17, 18, 19],\n",
              "        [20, 21, 22, 23],\n",
              "        [24, 25, 26, 27],\n",
              "        [28, 29, 30, 31]],\n",
              "\n",
              "       [[32, 33, 34, 35],\n",
              "        [36, 37, 38, 39],\n",
              "        [40, 41, 42, 43],\n",
              "        [44, 45, 46, 47]],\n",
              "\n",
              "       [[48, 49, 50, 51],\n",
              "        [52, 53, 54, 55],\n",
              "        [56, 57, 58, 59],\n",
              "        [60, 61, 62, 63]]])"
            ]
          },
          "metadata": {
            "tags": []
          },
          "execution_count": 23
        }
      ]
    },
    {
      "cell_type": "code",
      "metadata": {
        "id": "4qDFCL_NliPU",
        "outputId": "5428578a-0d33-48bd-bb5c-4ccc5d191a1e",
        "colab": {
          "base_uri": "https://localhost:8080/",
          "height": 35
        }
      },
      "source": [
        "a[0,:,0]"
      ],
      "execution_count": null,
      "outputs": [
        {
          "output_type": "execute_result",
          "data": {
            "text/plain": [
              "array([ 0,  4,  8, 12])"
            ]
          },
          "metadata": {
            "tags": []
          },
          "execution_count": 24
        }
      ]
    },
    {
      "cell_type": "code",
      "metadata": {
        "id": "aCOyMBf7liPY",
        "outputId": "6529a87c-84b6-4147-ec63-36781a6d43e4",
        "colab": {
          "base_uri": "https://localhost:8080/",
          "height": 52
        }
      },
      "source": [
        "a[0,:2,2:]"
      ],
      "execution_count": null,
      "outputs": [
        {
          "output_type": "execute_result",
          "data": {
            "text/plain": [
              "array([[2, 3],\n",
              "       [6, 7]])"
            ]
          },
          "metadata": {
            "tags": []
          },
          "execution_count": 25
        }
      ]
    },
    {
      "cell_type": "code",
      "metadata": {
        "id": "0OQ971nDliPb",
        "outputId": "5e651623-7667-4260-b26a-d5dc67802d4a",
        "colab": {
          "base_uri": "https://localhost:8080/",
          "height": 52
        }
      },
      "source": [
        "a[::2,1,:]"
      ],
      "execution_count": null,
      "outputs": [
        {
          "output_type": "execute_result",
          "data": {
            "text/plain": [
              "array([[ 4,  5,  6,  7],\n",
              "       [36, 37, 38, 39]])"
            ]
          },
          "metadata": {
            "tags": []
          },
          "execution_count": 26
        }
      ]
    },
    {
      "cell_type": "markdown",
      "metadata": {
        "id": "W4dhQ0ebliPf"
      },
      "source": [
        "\n",
        "\n",
        "## Funciones universales\n",
        "\n",
        "Las funciones universales son funciones que ejecutan operaciones element-wise sobre los datos en los arreglos.\n",
        "\n",
        "Generalmente, este tipo de funciones se aplican a cada elemento de un arreglo, por ejemplo:"
      ]
    },
    {
      "cell_type": "code",
      "metadata": {
        "id": "WF7-_fP_liPf",
        "outputId": "e43e0f6d-435e-45b5-a0c7-3c95a5798bc8",
        "colab": {
          "base_uri": "https://localhost:8080/",
          "height": 35
        }
      },
      "source": [
        "a = np.arange(5)\n",
        "a"
      ],
      "execution_count": null,
      "outputs": [
        {
          "output_type": "execute_result",
          "data": {
            "text/plain": [
              "array([0, 1, 2, 3, 4])"
            ]
          },
          "metadata": {
            "tags": []
          },
          "execution_count": 27
        }
      ]
    },
    {
      "cell_type": "code",
      "metadata": {
        "id": "qmplYTbrliPi",
        "outputId": "9fa6fe7e-f5c1-46d8-9920-cef66760db6a",
        "colab": {
          "base_uri": "https://localhost:8080/",
          "height": 35
        }
      },
      "source": [
        "b = np.sqrt(a)\n",
        "b"
      ],
      "execution_count": null,
      "outputs": [
        {
          "output_type": "execute_result",
          "data": {
            "text/plain": [
              "array([0.        , 1.        , 1.41421356, 1.73205081, 2.        ])"
            ]
          },
          "metadata": {
            "tags": []
          },
          "execution_count": 28
        }
      ]
    },
    {
      "cell_type": "code",
      "metadata": {
        "id": "AdLvJjpnliPp",
        "outputId": "ce7643d2-73b7-4813-84e4-e11e1ff77b18",
        "colab": {
          "base_uri": "https://localhost:8080/",
          "height": 35
        }
      },
      "source": [
        "np.exp(b)"
      ],
      "execution_count": null,
      "outputs": [
        {
          "output_type": "execute_result",
          "data": {
            "text/plain": [
              "array([1.        , 2.71828183, 4.11325038, 5.65223367, 7.3890561 ])"
            ]
          },
          "metadata": {
            "tags": []
          },
          "execution_count": 29
        }
      ]
    },
    {
      "cell_type": "markdown",
      "metadata": {
        "id": "e8mSfMdnliPt"
      },
      "source": [
        "\n",
        "\n",
        "Por otro lado, hay funciones universales que realizan operaciones con 2 arrays y regresan un array como salida."
      ]
    },
    {
      "cell_type": "code",
      "metadata": {
        "id": "f2qN6DNzliPu",
        "outputId": "1563de33-6eaa-4877-a145-5f426080711e",
        "colab": {
          "base_uri": "https://localhost:8080/",
          "height": 35
        }
      },
      "source": [
        "np.add(a,a)"
      ],
      "execution_count": null,
      "outputs": [
        {
          "output_type": "execute_result",
          "data": {
            "text/plain": [
              "array([0, 2, 4, 6, 8])"
            ]
          },
          "metadata": {
            "tags": []
          },
          "execution_count": 30
        }
      ]
    },
    {
      "cell_type": "code",
      "metadata": {
        "id": "IggBtbF0liPw",
        "outputId": "0f3a04de-aaad-4906-af7d-1789abaab655",
        "colab": {
          "base_uri": "https://localhost:8080/",
          "height": 35
        }
      },
      "source": [
        "np.multiply(a,a)"
      ],
      "execution_count": null,
      "outputs": [
        {
          "output_type": "execute_result",
          "data": {
            "text/plain": [
              "array([ 0,  1,  4,  9, 16])"
            ]
          },
          "metadata": {
            "tags": []
          },
          "execution_count": 31
        }
      ]
    },
    {
      "cell_type": "code",
      "metadata": {
        "id": "v5V_ZtL8liPz",
        "outputId": "feb00323-6387-4338-efd3-3c52cd2bb42e",
        "colab": {
          "base_uri": "https://localhost:8080/",
          "height": 35
        }
      },
      "source": [
        "np.power(a,a)"
      ],
      "execution_count": null,
      "outputs": [
        {
          "output_type": "execute_result",
          "data": {
            "text/plain": [
              "array([  1,   1,   4,  27, 256])"
            ]
          },
          "metadata": {
            "tags": []
          },
          "execution_count": 32
        }
      ]
    },
    {
      "cell_type": "markdown",
      "metadata": {
        "id": "dUkuxajXliP2"
      },
      "source": [
        "\n",
        "\n",
        "## Filtros en Arrays\n",
        "\n",
        "Suponga que desea tomar el valor de una matriz `X` cuando el valor correspondiente en una condición es True, y de lo contrario tome el valor de la matriz `Y`. Dentro de *Numpy* hay una función llamada **np.where** que resuelve la situación anterior.\n",
        "\n",
        "```python\n",
        "result = np.where(cond, xarr, yarr)\n",
        "```"
      ]
    },
    {
      "cell_type": "code",
      "metadata": {
        "id": "KIa_j0U6liP2",
        "outputId": "baaa8498-06e7-443a-dab3-bcf08b37ae67",
        "colab": {
          "base_uri": "https://localhost:8080/",
          "height": 35
        }
      },
      "source": [
        "xarr = np.array([1.1, 1.2, 1.3, 1.4, 1.5])\n",
        "yarr = np.array([2.1, 2.2, 2.3, 2.4, 2.5])\n",
        "cond = np.array([True, False, True, True, False])\n",
        "np.where(cond,xarr,yarr)"
      ],
      "execution_count": null,
      "outputs": [
        {
          "output_type": "execute_result",
          "data": {
            "text/plain": [
              "array([1.1, 2.2, 1.3, 1.4, 2.5])"
            ]
          },
          "metadata": {
            "tags": []
          },
          "execution_count": 33
        }
      ]
    },
    {
      "cell_type": "code",
      "metadata": {
        "id": "chNqRUXuliP5",
        "outputId": "1038a5f2-f986-46aa-fbf3-7a38c4484832",
        "colab": {
          "base_uri": "https://localhost:8080/",
          "height": 35
        }
      },
      "source": [
        "np.where(xarr>1.3,0,1)"
      ],
      "execution_count": null,
      "outputs": [
        {
          "output_type": "execute_result",
          "data": {
            "text/plain": [
              "array([1, 1, 1, 0, 0])"
            ]
          },
          "metadata": {
            "tags": []
          },
          "execution_count": 34
        }
      ]
    },
    {
      "cell_type": "markdown",
      "metadata": {
        "id": "OqQ3ftPgliP-"
      },
      "source": [
        "\n",
        "\n",
        "## Métodos matemáticos y estadísticos\n",
        "\n",
        "Un conjunto de funciones matemáticas que computan estadísticas sobre una matriz completa o sobre los datos a lo largo de un eje son accesibles como métodos de la clase `ndarray`. Las funciones como suma, media y desviación estándar se pueden usar llamando al método de instancia de matriz o usando la función * numpy * de nivel superior."
      ]
    },
    {
      "cell_type": "code",
      "metadata": {
        "id": "sSObFhM-liP-",
        "outputId": "8a8825d4-4de5-47f5-8a23-c6bacd7aa52b",
        "colab": {
          "base_uri": "https://localhost:8080/",
          "height": 70
        }
      },
      "source": [
        "a = np.arange(9).reshape(3,3)\n",
        "a"
      ],
      "execution_count": null,
      "outputs": [
        {
          "output_type": "execute_result",
          "data": {
            "text/plain": [
              "array([[0, 1, 2],\n",
              "       [3, 4, 5],\n",
              "       [6, 7, 8]])"
            ]
          },
          "metadata": {
            "tags": []
          },
          "execution_count": 35
        }
      ]
    },
    {
      "cell_type": "code",
      "metadata": {
        "id": "GPEDdP2_liQC",
        "outputId": "42f7aeae-0965-4682-a951-713a0bc916b4",
        "colab": {
          "base_uri": "https://localhost:8080/",
          "height": 35
        }
      },
      "source": [
        "a.mean()"
      ],
      "execution_count": null,
      "outputs": [
        {
          "output_type": "execute_result",
          "data": {
            "text/plain": [
              "4.0"
            ]
          },
          "metadata": {
            "tags": []
          },
          "execution_count": 36
        }
      ]
    },
    {
      "cell_type": "code",
      "metadata": {
        "id": "m3SLRqo_liQF",
        "outputId": "190b6ce8-d857-46ea-a7e5-eee8f6fbdf81",
        "colab": {
          "base_uri": "https://localhost:8080/",
          "height": 35
        }
      },
      "source": [
        "np.mean(a)"
      ],
      "execution_count": null,
      "outputs": [
        {
          "output_type": "execute_result",
          "data": {
            "text/plain": [
              "4.0"
            ]
          },
          "metadata": {
            "tags": []
          },
          "execution_count": 37
        }
      ]
    },
    {
      "cell_type": "markdown",
      "metadata": {
        "id": "HTBXZSJGliQI"
      },
      "source": [
        "\n",
        "\n",
        "La operación anterior se ha realizado en toda la matriz, pero es posible especificar el eje, como se muestra a continuación:"
      ]
    },
    {
      "cell_type": "code",
      "metadata": {
        "id": "BtevvCJoliQJ",
        "outputId": "7e434fce-7976-4353-8ab8-3a6b7204af48",
        "colab": {
          "base_uri": "https://localhost:8080/",
          "height": 35
        }
      },
      "source": [
        "a.sum(axis=1)"
      ],
      "execution_count": null,
      "outputs": [
        {
          "output_type": "execute_result",
          "data": {
            "text/plain": [
              "array([ 3, 12, 21])"
            ]
          },
          "metadata": {
            "tags": []
          },
          "execution_count": 38
        }
      ]
    },
    {
      "cell_type": "code",
      "metadata": {
        "id": "ZMN7qGykliQO",
        "outputId": "47dcb874-f3a2-4c8a-d616-e00ae91e8771",
        "colab": {
          "base_uri": "https://localhost:8080/",
          "height": 35
        }
      },
      "source": [
        "np.sum(a,axis=0)"
      ],
      "execution_count": null,
      "outputs": [
        {
          "output_type": "execute_result",
          "data": {
            "text/plain": [
              "array([ 9, 12, 15])"
            ]
          },
          "metadata": {
            "tags": []
          },
          "execution_count": 39
        }
      ]
    },
    {
      "cell_type": "code",
      "metadata": {
        "id": "fEUmFWqwliQU",
        "outputId": "363a8f56-6122-4761-d3fd-8d05f6a05eaf",
        "colab": {
          "base_uri": "https://localhost:8080/",
          "height": 35
        }
      },
      "source": [
        "a.max(axis=1)"
      ],
      "execution_count": null,
      "outputs": [
        {
          "output_type": "execute_result",
          "data": {
            "text/plain": [
              "array([2, 5, 8])"
            ]
          },
          "metadata": {
            "tags": []
          },
          "execution_count": 40
        }
      ]
    },
    {
      "cell_type": "code",
      "metadata": {
        "id": "Ut5-0t6SliQZ",
        "outputId": "ca43d525-9214-417b-ff9f-8ac5de4f3c0c",
        "colab": {
          "base_uri": "https://localhost:8080/",
          "height": 35
        }
      },
      "source": [
        "a.std(0)"
      ],
      "execution_count": null,
      "outputs": [
        {
          "output_type": "execute_result",
          "data": {
            "text/plain": [
              "array([2.44948974, 2.44948974, 2.44948974])"
            ]
          },
          "metadata": {
            "tags": []
          },
          "execution_count": 41
        }
      ]
    }
  ]
}