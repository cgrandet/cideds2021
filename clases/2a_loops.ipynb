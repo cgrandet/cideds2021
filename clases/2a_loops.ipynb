{
 "cells": [
  {
   "cell_type": "markdown",
   "metadata": {},
   "source": [
    "# INTRODUCCIÓN A LA PROGRAMACIÓN CON PYTHON I\n",
    "\n",
    "## Módulo 2A - Loops"
   ]
  },
  {
   "cell_type": "markdown",
   "metadata": {},
   "source": [
    "### Recap\n",
    "- Variables\n",
    "- Tipos de datos\n",
    "- Expresiones (evaluaciones de operaciones, ya sean funcionales o lógicas)\n",
    "- Declaraciones (funcional, asignación, control de flujo)"
   ]
  },
  {
   "cell_type": "markdown",
   "metadata": {},
   "source": [
    "### Bucles de secuencia (nadie dice eso, todo mundo le dice *for loops* o *sequence-based loops*)\n",
    "\n",
    "Un `for` loop va a circular a través de los valores en una lista para hacer algo. Por ejemplo:"
   ]
  },
  {
   "cell_type": "code",
   "execution_count": 1,
   "metadata": {},
   "outputs": [
    {
     "name": "stdout",
     "output_type": "stream",
     "text": [
      "1\n",
      "2\n",
      "3\n",
      "4\n",
      "5\n"
     ]
    }
   ],
   "source": [
    "for i in [1,2,3,4,5]:    # más adelante ahondaremos en esta estructura de datos que se llama \"lista\"\n",
    "    print(i)             # lo que estamos haciendo es imprimir cada uno de los números en la lista anterior"
   ]
  },
  {
   "cell_type": "markdown",
   "metadata": {},
   "source": [
    "En general:\n",
    "\n",
    "```\n",
    "for <variable> in <list/sequence/iterable>:\n",
    "    <statements>\n",
    "```\n",
    "\n",
    "Las listas a recorrer para obtener valores pueden tener cualquier tipo de datos: enteros, texto e incluso otros datos más complejos. Veamos algunos ejemplos:"
   ]
  },
  {
   "cell_type": "code",
   "execution_count": 2,
   "metadata": {},
   "outputs": [
    {
     "name": "stdout",
     "output_type": "stream",
     "text": [
      "Jacinta obtuvo: 97\n",
      "María obtuvo: 84\n",
      "Ana Paula obtuvo: 91\n"
     ]
    }
   ],
   "source": [
    "# Otro ejemplo: imprimamos la calificación de cada alumna junto con su nombre\n",
    "estudiantes = [\"Jacinta\", \"María\", \"Ana Paula\"]\n",
    "califs = [97, 84, 91]\n",
    "\n",
    "for e, c in zip(estudiantes, califs):   ## Más adelante ahondaremos en zip\n",
    "    print(e, \"obtuvo:\", c)"
   ]
  },
  {
   "cell_type": "markdown",
   "metadata": {},
   "source": [
    "Con las calificaciones anteriores, cómo sacaríamos el promedio del grupo?"
   ]
  },
  {
   "cell_type": "code",
   "execution_count": 3,
   "metadata": {},
   "outputs": [
    {
     "name": "stdout",
     "output_type": "stream",
     "text": [
      "alumna: 1 calif: 97 suma: 97\n",
      "alumna: 2 calif: 84 suma: 181\n",
      "alumna: 3 calif: 91 suma: 272\n",
      "Promedio: 90.66666666666667\n"
     ]
    }
   ],
   "source": [
    "califs = [97, 84, 91]\n",
    "prom = 0\n",
    "count = 0\n",
    "\n",
    "for c in califs:\n",
    "    prom += c\n",
    "    count += 1\n",
    "    print(\"alumna:\", count, \"calif:\", c, \"suma:\", prom)\n",
    "\n",
    "print(\"Promedio:\", prom/count)"
   ]
  },
  {
   "cell_type": "markdown",
   "metadata": {},
   "source": [
    "Paso por paso, ¿qué está pasando?\n",
    "1. Para cada calificación, estamos sumando los valores en una variable `prom`\n",
    "2. Para poder saber cuántas calificaciones hay, definimos una variable \"contadora\": `count`\n",
    "3. El loop circula a través de toda la lista, sumando los valores en `prom` y contando el número de calificaciones en  `count`. Al final dividimos la suma de calificaciones entre el número de calificaciones para obtener el promedio."
   ]
  },
  {
   "cell_type": "code",
   "execution_count": 4,
   "metadata": {},
   "outputs": [
    {
     "name": "stdout",
     "output_type": "stream",
     "text": [
      "alumna: 1 calif: 97 suma: 97\n",
      "alumna: 2 calif: 84 suma: 97\n",
      "alumna: 3 calif: 91 suma: 188\n",
      "alumna: 4 calif: 91 suma: 279\n",
      "alumna: 5 calif: 85 suma: 279\n",
      "alumna: 6 calif: 89 suma: 279\n",
      "alumna: 7 calif: 76 suma: 279\n",
      "Promedio: 39.857142857142854\n"
     ]
    }
   ],
   "source": [
    "## Supongamos que queremos sacar el promedio de las alumnas que sacaron 90 o más:\n",
    "califs = [97, 84, 91, 91, 85, 89, 76]\n",
    "prom = 0\n",
    "count = 0\n",
    "\n",
    "for c in califs:\n",
    "    if c >= 90:\n",
    "        prom += c\n",
    "    count += 1\n",
    "    print(\"alumna:\", count, \"calif:\", c, \"suma:\", prom)\n",
    "\n",
    "print(\"Promedio:\", prom/count)"
   ]
  },
  {
   "cell_type": "markdown",
   "metadata": {},
   "source": [
    "OMAIGAD, ¿qué fue eso? Metimos un `if` adentro de un `for`. De esta manera, podemos circular a través de toda la lista y tomar sólo aquellas calificaciones que son mayores a 90 (el valor que queremos). Noten cómo solo deberíamos sumar y contar las calificacions si cumplen esa condición.\n",
    "\n",
    "¿Pero qué hicimos mal? Este es un ejemplo donde la indentación es muy importante! No solo la suma de las calificaciones debe estar adentro del `if`, sino también la cuenta de calificaciones."
   ]
  },
  {
   "cell_type": "code",
   "execution_count": 5,
   "metadata": {},
   "outputs": [
    {
     "name": "stdout",
     "output_type": "stream",
     "text": [
      "alumna: 1 calif: 97 suma: 97\n",
      "alumna: 2 calif: 91 suma: 188\n",
      "alumna: 3 calif: 91 suma: 279\n",
      "Promedio: 93.0\n"
     ]
    }
   ],
   "source": [
    "## Esta es la indentación correcta:\n",
    "califs = [97, 84, 91, 91, 85, 89, 76]\n",
    "prom = 0\n",
    "count = 0\n",
    "\n",
    "for c in califs:\n",
    "    if c >= 90:\n",
    "        prom += c\n",
    "        count += 1\n",
    "        print(\"alumna:\", count, \"calif:\", c, \"suma:\", prom)\n",
    "\n",
    "print(\"Promedio:\", prom/count)"
   ]
  },
  {
   "cell_type": "markdown",
   "metadata": {},
   "source": [
    "#### Ejercicio\n",
    "Supongamos que una AFORE está considerando cobrar una comisión anual por el total de dinero invertido. ¿Cuánto podría recaudar la AFORE a distintos niveles de comisiones para los siguientes clientes?\n",
    "\n",
    "Comisiones a evaluar: `0.5%`, `0.75%`, `1.25%`"
   ]
  },
  {
   "cell_type": "code",
   "execution_count": 6,
   "metadata": {},
   "outputs": [],
   "source": [
    "total_inv = [90.5, 129.1, 359.2, 12.2, 15.5, 4.9, 19.1, 2.5, 188.4]\n",
    "fees = [0.005, 0.0075, 0.0125]"
   ]
  },
  {
   "cell_type": "markdown",
   "metadata": {},
   "source": [
    "¿Cómo haríamos este ejercicio para sólo una comisión?"
   ]
  },
  {
   "cell_type": "code",
   "execution_count": 20,
   "metadata": {},
   "outputs": [
    {
     "name": "stdout",
     "output_type": "stream",
     "text": [
      "Total fees at a rate of 0.005 are 4.107\n"
     ]
    }
   ],
   "source": [
    "fee = 0.005    # Empecemos con el 0.5%\n",
    "\n",
    "total_fees = 0              # Inicializamos un acumulador en cero\n",
    "for t in total_inv:\n",
    "    total_fees += fee*t       # Para cada inversión, sumamos al acumulador el valor de la comisión f*t\n",
    "print(\"Total fees at a rate of\", fee, \"are\", total_fees)"
   ]
  },
  {
   "cell_type": "markdown",
   "metadata": {},
   "source": [
    "Ahora, podemos reciclar este mismo trozo de código para obtener el mismo cálculo para las otras dos comisiones. Una línea extra de código es todo lo necesario obtener lo que queremos."
   ]
  },
  {
   "cell_type": "code",
   "execution_count": 23,
   "metadata": {},
   "outputs": [
    {
     "name": "stdout",
     "output_type": "stream",
     "text": [
      "Total fees at a rate of 0.005 are 4.107\n",
      "Total fees at a rate of 0.005 are 4.107\n",
      "Total fees at a rate of 0.005 are 4.107\n"
     ]
    }
   ],
   "source": [
    "for f in fees:\n",
    "    total_fees = 0\n",
    "    for t in total_inv:\n",
    "        total_fees += fee*t\n",
    "    print(\"Total fees at a rate of\", fee, \"are\", total_fees)"
   ]
  },
  {
   "cell_type": "markdown",
   "metadata": {},
   "source": [
    "Oops, ¿qué pasó? Algo mal hicimos porque estamos obteniendo 3 veces el mismo resultado. Vamos paso por paso:\n",
    "\n",
    "1. Para la primera comisión `f` en la lista `fees`:\n",
    "2. Inicializa en 0 el contador `total_fees` que acumulará el total de comisiones a cobrar a dicha tasa\n",
    "3. Luego, para cada `t` en la lista con inversiones `total_inv`:\n",
    "4. Sumar a la variable `total_fees` el valor de `fee` multiplicado por la inversión `t` <span style=\"color:red\">**!!!!!!**</span>\n",
    "\n",
    "Se nos olvidó cambiar el nombre de `fee` por la `f` que usamos en el loop. Mucho ojo con renombrar las variables cuando reciclamos código. Un error muy común, sobre todo cuando se trabaja con cuadernos jupyter, es no cambiar las variables o reutilizar los mismos nombres y esto puede tener efectos muy indeseables.\n",
    "\n",
    "Ahora sí, corrigiendo `fee` por `f`:"
   ]
  },
  {
   "cell_type": "code",
   "execution_count": 24,
   "metadata": {},
   "outputs": [
    {
     "name": "stdout",
     "output_type": "stream",
     "text": [
      "Total fees at a rate of 0.005 are 4.107\n",
      "Total fees at a rate of 0.0075 are 6.160499999999999\n",
      "Total fees at a rate of 0.0125 are 10.2675\n"
     ]
    }
   ],
   "source": [
    "for f in fees:\n",
    "    total_fees = 0\n",
    "    for t in total_inv:\n",
    "        total_fees += f*t\n",
    "    print(\"Total fees at a rate of\", f, \"are\", total_fees)"
   ]
  },
  {
   "cell_type": "markdown",
   "metadata": {},
   "source": [
    "¿Qué hicimos? Un `nested loop`, o sea, un loop adentro de un loop. Esta es una forma de poder repetir una misma operación (p.ej. obtener la comisión total) para un conjunto de datos (todos los clientes). \n",
    "\n",
    "Vamos paso por paso:\n",
    "1. Para la primera comisión `f` en la lista `fees`:\n",
    "2. Inicializa el contador `total_fees` que acumulará el total de comisiones a cobrar a dicha tasa\n",
    "3. Luego, para cada `t` en la lista con inversiones `total_inv`:\n",
    "4. Sumar a la variable `total_fees` el valor de `f` multiplicado por la inversión `t`\n",
    "5. Imprime el valor total de las comisiones a cobrar `total_fees` a la tasa `f`\n",
    "6. Repetir con las comisiones subsecuentes\n",
    "\n",
    "\n",
    "Este ejercicio de regresar a nuestro código y ver paso a paso qué estábamos haciendo para encontrar el error se le conoce como **debugging**. En programación, a los errores en el código se les conoce como `bugs`, y el acto de corregir esos errores se llama `debugging`. Normalmente, el debugging no es un proceso corto, feliz, o agradable, pero es necesario para que nuestro código haga lo que queremos que haga. \n",
    "\n",
    "A medida que vamos escribiendo código, es importante probar que los scripts que hacemos efectivamente hacen lo que queremos. De lo contrario, si encontramos un error después de escribir 100 líneas de código, será mucho más difícil encontrar dónde está el error.\n",
    "\n",
    "\n",
    "#### Ejercicio \n",
    "Supongamos ahora que la AFORE quiere cobrar al menos $1 de comisión para cada cliente. Vuelve a calcular cuánto recaudaría la AFORE para los 3 niveles de comisión mencionados al principio del ejercicio."
   ]
  },
  {
   "cell_type": "code",
   "execution_count": 8,
   "metadata": {},
   "outputs": [
    {
     "name": "stdout",
     "output_type": "stream",
     "text": [
      "Total fees at a rate of 0.005 are 9.796\n",
      "Total fees at a rate of 0.0075 are 11.107\n",
      "Total fees at a rate of 0.0125 are 14.59\n"
     ]
    }
   ],
   "source": [
    "for f in fees:\n",
    "    total_fees = 0\n",
    "    for t in total_inv:\n",
    "        fee = f*t                 # ¿por qué escribo esto aquí?\n",
    "        if fee < 1:\n",
    "            total_fees += 1\n",
    "        else:                     # ¿por qué else? ¿por qué no elif?\n",
    "            total_fees += fee\n",
    "    print(\"Total fees at a rate of\", f, \"are\", total_fees)"
   ]
  },
  {
   "cell_type": "markdown",
   "metadata": {},
   "source": [
    "Esto fue muy similar al ejercicio de las calificaciones. Si la inversión es menor a 1, le añadimos el 1 por default; de lo contrario, añadimos el valor que corresponde (que naturalmente sería mayor a 1)."
   ]
  },
  {
   "cell_type": "markdown",
   "metadata": {},
   "source": [
    "#### Ejercicio\n",
    "Supongamos que los usuarios no están dispuestos a aceptar ninguna comisión que reduzca el 1% o más de su inversión. Si la comisión redujera en 1% o más la riqueza del usuario, dicho usuario se cambiaría de AFORE inmediatamente antes de que la AFORE pudiera empezar a cobrar por sus servicios. \n",
    "\n",
    "La AFORE sigue queriendo cobrar al menos $1 de comisión para cada cliente. Vuelve a calcular cuánto recaudaría la AFORE para los 3 niveles de comisión mencionados al principio del ejercicio.¿Cuánto podría recaudar la AFORE con esta estructura? "
   ]
  },
  {
   "cell_type": "code",
   "execution_count": 25,
   "metadata": {},
   "outputs": [
    {
     "name": "stdout",
     "output_type": "stream",
     "text": [
      "Total fees at a rate of 0.005 are 3.7960000000000003\n",
      "Total fees at a rate of 0.0075 are 5.107\n",
      "Total fees at a rate of 0.0125 are 0\n"
     ]
    }
   ],
   "source": [
    "for f in fees:\n",
    "    total_fees = 0\n",
    "    for t in total_inv:\n",
    "        fee = f*t\n",
    "        max_fee = 0.01 * t    # 1% del valor total de la inversión\n",
    "        \n",
    "        if fee < 1:\n",
    "            if 1 < max_fee:\n",
    "                total_fees += 1   \n",
    "            else:                 # acaso necesitamos este else aquí?\n",
    "                total_fees += 0\n",
    "        else:\n",
    "            if fee < max_fee:\n",
    "                total_fees += fee\n",
    "            else:                 # misma pregunta que arriba\n",
    "                total_fees += 0\n",
    "    print(\"Total fees at a rate of\", f, \"are\", total_fees)"
   ]
  },
  {
   "cell_type": "markdown",
   "metadata": {},
   "source": [
    "En el ejemplo anterior, cuando el fee a cobrar es mayor al max fee, en realidad no queremos sumar nada a nuestro acumulador. En esos casos, simplemente queremos seguir al próximo valor de la inversión de los clientes. \n",
    "\n",
    "Para lograrlo tenemos algunas alternativas. La primera es quitar por completo el else, ya que nada necesita suceder en el caso complementario al `if`."
   ]
  },
  {
   "cell_type": "code",
   "execution_count": 28,
   "metadata": {},
   "outputs": [
    {
     "name": "stdout",
     "output_type": "stream",
     "text": [
      "Total fees at a rate of 0.005 are 3.7960000000000003\n",
      "Total fees at a rate of 0.0075 are 5.107\n",
      "Total fees at a rate of 0.0125 are 0\n"
     ]
    }
   ],
   "source": [
    "for f in fees:\n",
    "    total_fees = 0\n",
    "    for t in total_inv:\n",
    "        fee = f*t\n",
    "        max_fee = 0.01 * t    # 1% del valor total de la inversión\n",
    "        \n",
    "        if fee < 1:\n",
    "            if 1 < max_fee:\n",
    "                total_fees += 1\n",
    "        else:\n",
    "            if fee < max_fee:\n",
    "                total_fees += fee\n",
    "    print(\"Total fees at a rate of\", f, \"are\", total_fees)"
   ]
  },
  {
   "cell_type": "markdown",
   "metadata": {},
   "source": [
    "La segunda opción es usar `pass`, una función cuyo trabajo es no hacer nada. Esto puede ser útil para nosotros leer el código y darnos cuenta que ahí no hay nada que hacer. Cuando no estamos completamente seguros que hay que hacer algo, `pass` es una función útil.\n",
    "\n",
    "Sin embargo, `pass` puede ser confusa en el futuro si volvemos a la función y vemos un espacio vacío. Si se usa, debemos usar al menos un comentario que diga por qué no implementamos nada ahí. \n",
    "\n",
    "La mejor solución en este caso sería que, una vez que nos percatamos que no necesitamos un `else`, eliminar esas declaraciones que solo ocupan espacio."
   ]
  },
  {
   "cell_type": "code",
   "execution_count": 26,
   "metadata": {},
   "outputs": [
    {
     "name": "stdout",
     "output_type": "stream",
     "text": [
      "Total fees at a rate of 0.005 are 3.7960000000000003\n",
      "Total fees at a rate of 0.0075 are 5.107\n",
      "Total fees at a rate of 0.0125 are 0\n"
     ]
    }
   ],
   "source": [
    "for f in fees:\n",
    "    total_fees = 0\n",
    "    for t in total_inv:\n",
    "        fee = f*t\n",
    "        max_fee = 0.01 * t    # 1% del valor total de la inversión\n",
    "        \n",
    "        if fee < 1:\n",
    "            if 1 < max_fee:\n",
    "                total_fees += 1   \n",
    "            else:                 # podemos usar pass para cuando no queremos que suceda nada\n",
    "                pass              # esto nos es útil si hay comentarios diciendo por qué usamos pass\n",
    "        else:\n",
    "            if fee < max_fee:\n",
    "                total_fees += fee\n",
    "            else:                 \n",
    "                pass\n",
    "    print(\"Total fees at a rate of\", f, \"are\", total_fees)"
   ]
  },
  {
   "cell_type": "markdown",
   "metadata": {},
   "source": [
    "#### Ejercicio: función `range()`\n",
    "Es común querer hacer loops en un rango de números, para ello hay funciones útiles como range(). Supongamos que queremos calcular cuántos números divisibles entre 3 y 7 hay en los primeros 20 números naturales. ¿Cómo lo hacemos?"
   ]
  },
  {
   "cell_type": "code",
   "execution_count": 29,
   "metadata": {},
   "outputs": [
    {
     "name": "stdout",
     "output_type": "stream",
     "text": [
      "3 divisble by 3\n",
      "6 divisble by 3\n",
      "7 divisble by 7\n",
      "9 divisble by 3\n",
      "12 divisble by 3\n",
      "14 divisble by 7\n",
      "15 divisble by 3\n",
      "18 divisble by 3\n",
      "Total of 8 numbers divisible by 3 or 7\n"
     ]
    }
   ],
   "source": [
    "count = 0\n",
    "\n",
    "for i in range(1, 21):\n",
    "    if i % 3 == 0:\n",
    "        print(i, \"divisble by\", 3)\n",
    "        count += 1\n",
    "    elif i % 7 == 0:\n",
    "        print(i, \"divisble by\", 7)\n",
    "        count += 1\n",
    "        \n",
    "print(\"Total of\", count, \"numbers divisible by 3 or 7\")"
   ]
  },
  {
   "cell_type": "markdown",
   "metadata": {},
   "source": [
    "Una forma más sucinta de escribir lo mismo es agrupar ambas condiciones en una misma línea:"
   ]
  },
  {
   "cell_type": "code",
   "execution_count": 11,
   "metadata": {},
   "outputs": [
    {
     "name": "stdout",
     "output_type": "stream",
     "text": [
      "Total of 8 numbers divisible by 3 or 7\n"
     ]
    }
   ],
   "source": [
    "count = 0\n",
    "\n",
    "for i in range(1, 21):\n",
    "    if i % 3 == 0 or i % 7 == 0:\n",
    "        count += 1\n",
    "        \n",
    "print(\"Total of\", count, \"numbers divisible by 3 or 7\")"
   ]
  },
  {
   "cell_type": "markdown",
   "metadata": {},
   "source": [
    "La función `range`, así como otras funciones en Python, inician en cero. Así que si ponemos `range(3)`, el primer valor que regresará la función es el cero. Además, la función range es NO INCLUSIVA del último valor. Esto quiere decir que si ejecutamos `range(5)`, contaremos hasta el 5, pero sin incluir el 5. Por ejemplo:"
   ]
  },
  {
   "cell_type": "code",
   "execution_count": 14,
   "metadata": {},
   "outputs": [
    {
     "name": "stdout",
     "output_type": "stream",
     "text": [
      "0\n",
      "1\n",
      "2\n",
      "3\n",
      "4\n"
     ]
    }
   ],
   "source": [
    "for i in range(5):\n",
    "    print(i)"
   ]
  },
  {
   "cell_type": "markdown",
   "metadata": {},
   "source": [
    "Estamos efectivamente obteniendo 5 valores, pero iniciando desde el número cero. \n",
    "\n",
    "¿Cómo haríamos para obtener del 1 al 5 usando la función `range`?"
   ]
  },
  {
   "cell_type": "code",
   "execution_count": 16,
   "metadata": {},
   "outputs": [
    {
     "name": "stdout",
     "output_type": "stream",
     "text": [
      "1\n",
      "2\n",
      "3\n",
      "4\n",
      "5\n"
     ]
    }
   ],
   "source": [
    "for i in range(1, 5 + 1):\n",
    "    print(i)"
   ]
  },
  {
   "cell_type": "markdown",
   "metadata": {},
   "source": [
    "#### Ejercicio: `zip`\n",
    "\n",
    "La función `zip` nos va a ayudar a tomar dos listas y en vez de solo usar un valor, poder extraer, en orden, los i-ésimos valores de cada lista proporcionada. \n",
    "\n",
    "Con los siguientes datos, determine cuánto debe pagar de impuestos en la compra. Las tasas de impuestos son:\n",
    "- ropa, 8.25% si cuesta más de $100\n",
    "- muebles, 10.50%\n",
    "- comida, no paga impuestos"
   ]
  },
  {
   "cell_type": "code",
   "execution_count": 17,
   "metadata": {},
   "outputs": [],
   "source": [
    "## Ejercicio 1\n",
    "items = ['ropa', 'ropa', 'ropa', 'muebles', 'comida', 'ropa', 'comida']\n",
    "precios = [12.99, 24.99, 19.99, 159.99, 35.84, 119.99, 23.98]"
   ]
  },
  {
   "cell_type": "code",
   "execution_count": 40,
   "metadata": {},
   "outputs": [
    {
     "name": "stdout",
     "output_type": "stream",
     "text": [
      "17.788867500000002\n"
     ]
    }
   ],
   "source": [
    "impuesto = 0\n",
    "tx_ropa = 0.00825\n",
    "tx_mueb = 0.1050\n",
    "\n",
    "for item, precio in zip(items, precios):\n",
    "    if item == 'ropa' and precio > 100:\n",
    "        impuesto += precio*tx_ropa\n",
    "    elif item == 'muebles':\n",
    "        impuesto += precio*tx_mueb\n",
    "    \n",
    "print(impuesto)"
   ]
  },
  {
   "cell_type": "markdown",
   "metadata": {},
   "source": [
    "Repite el mismo ejercicio añadiendo las siguientes condiciones:\n",
    "    - ropa para 5% si cuesta $100 o menos\n",
    "    - todos los demás artículos pagan el 1% de impuesto"
   ]
  },
  {
   "cell_type": "markdown",
   "metadata": {},
   "source": [
    "#### Ejercicio: `break`\n",
    "Supongamos que queremos identificar el primer número que sea divisible entre 3 y 7."
   ]
  },
  {
   "cell_type": "code",
   "execution_count": 31,
   "metadata": {},
   "outputs": [
    {
     "name": "stdout",
     "output_type": "stream",
     "text": [
      "21 divisible by 3 and 7\n"
     ]
    }
   ],
   "source": [
    "for i in range(1, 100):\n",
    "    if i % 3 == 0 and i % 7 == 0:\n",
    "        print(i, \"divisible by 3 and 7\")\n",
    "        break"
   ]
  },
  {
   "cell_type": "markdown",
   "metadata": {},
   "source": [
    "La función `break` interrumpe un loop cuando es ejecutado.  En este caso, cuando llegamos a un número que cumplió la condición que estábamos buscando, ejecutamos `break` para dejar de circular a través del resto de los valores de `range`. \n",
    "\n",
    "No sólo es una función conveniente, sino que también es eficiente. Esta operación pudo haber tardado casi 5 veces más si no hubiéramos usado `break` (nos detuvimos en el 21, en vez de tener que recorrer hasta el 99). La **eficiencia** es algo de lo que casi no nos hemos ocupado hasta ahora, pero es importante considerarla. Pronto veremos ejemplos donde nos daremos cuenta de lo importante que es pensar en la eficiencia de nuestras implementaciones."
   ]
  },
  {
   "cell_type": "markdown",
   "metadata": {},
   "source": [
    "### Bucles condicionales (así se dice en español, pero se les conoce como *while loops* o *condition-based loops*)\n",
    "\n",
    "Los `while loops` son similares a los `for loops` en el sentido de que también repetirán un bloque de código. La diferencia es que los `while` se ejecutan mientras una condición sea verdadera/se esté cumpliendo, en contraste a los `for` que se ejecutan solo para una lista de valores. \n",
    "\n",
    "En general:\n",
    "\n",
    "```\n",
    "while <boolean>:\n",
    "    <statements>\n",
    "```\n",
    "\n",
    "Retomemos el ejemplo que acabamos de revisar con `break`. Esta misma solución la podemos reescribir usando un `while loop`:"
   ]
  },
  {
   "cell_type": "code",
   "execution_count": 33,
   "metadata": {},
   "outputs": [
    {
     "name": "stdout",
     "output_type": "stream",
     "text": [
      "21 divisible by 3 and 7\n"
     ]
    }
   ],
   "source": [
    "i = 1\n",
    "\n",
    "while not (i % 3 == 0 and i % 7 == 0):   # while True hará que lo que está dentro del loop se ejecute\n",
    "    i += 1\n",
    "\n",
    "print(i, \"divisible by 3 and 7\")"
   ]
  },
  {
   "cell_type": "markdown",
   "metadata": {},
   "source": [
    "Ese recordatorio de lógica de la primera clase nos resulta muy útil para este tipo de loops. Mientras no se cumpla una condición, en este caso que un número sea divisible entre 3 y entre 7), aumenta el valor de i (para poder evaluar el siguiente número). Una vez que llegamos al número 21:\n",
    "\n",
    "```\n",
    "while not (True)\n",
    "```\n",
    "\n",
    "se evaluará como \n",
    "\n",
    "```\n",
    "while False\n",
    "```\n",
    "\n",
    "Si recuerdan, not True -> False.\n",
    "\n",
    "Entonces, al evaluar un Falso, el `while` se detiene.\n",
    "\n",
    "\n",
    "Los `while` loops son un poco delicados, ya que podemos caer en lo que se conoce como un loop infinito. A veces escribimos cosas que creemos son correctas, pero que harán que el while nunca deje de correr. \n",
    "\n",
    "Se sugiere tener `print()` statements cuando se usen whiles o tratar de escribir lo mismo con un `for` loop. Casi siempre se puede escribir lo mismo con un `for` y un break. Casi."
   ]
  },
  {
   "cell_type": "code",
   "execution_count": 37,
   "metadata": {},
   "outputs": [
    {
     "ename": "KeyboardInterrupt",
     "evalue": "",
     "output_type": "error",
     "traceback": [
      "\u001b[0;31m---------------------------------------------------------------------------\u001b[0m",
      "\u001b[0;31mKeyboardInterrupt\u001b[0m                         Traceback (most recent call last)",
      "\u001b[0;32m<ipython-input-37-5220d21f5617>\u001b[0m in \u001b[0;36m<module>\u001b[0;34m\u001b[0m\n\u001b[1;32m      2\u001b[0m \u001b[0mi\u001b[0m \u001b[0;34m=\u001b[0m \u001b[0;36m0\u001b[0m\u001b[0;34m\u001b[0m\u001b[0;34m\u001b[0m\u001b[0m\n\u001b[1;32m      3\u001b[0m \u001b[0;32mwhile\u001b[0m \u001b[0;34m(\u001b[0m\u001b[0mi\u001b[0m \u001b[0;34m%\u001b[0m \u001b[0;36m3\u001b[0m \u001b[0;34m==\u001b[0m \u001b[0;36m0\u001b[0m \u001b[0;32mand\u001b[0m \u001b[0mi\u001b[0m \u001b[0;34m%\u001b[0m \u001b[0;36m7\u001b[0m \u001b[0;34m==\u001b[0m \u001b[0;36m0\u001b[0m\u001b[0;34m)\u001b[0m\u001b[0;34m:\u001b[0m   \u001b[0;31m# while True hará que lo que está dentro del loop se ejecute\u001b[0m\u001b[0;34m\u001b[0m\u001b[0;34m\u001b[0m\u001b[0m\n\u001b[0;32m----> 4\u001b[0;31m     \u001b[0;32mpass\u001b[0m\u001b[0;34m\u001b[0m\u001b[0;34m\u001b[0m\u001b[0m\n\u001b[0m\u001b[1;32m      5\u001b[0m \u001b[0;34m\u001b[0m\u001b[0m\n\u001b[1;32m      6\u001b[0m \u001b[0mprint\u001b[0m\u001b[0;34m(\u001b[0m\u001b[0mi\u001b[0m\u001b[0;34m,\u001b[0m \u001b[0;34m\"divisible by 3 and 7\"\u001b[0m\u001b[0;34m)\u001b[0m\u001b[0;34m\u001b[0m\u001b[0;34m\u001b[0m\u001b[0m\n",
      "\u001b[0;31mKeyboardInterrupt\u001b[0m: "
     ]
    }
   ],
   "source": [
    "## Ejemplo\n",
    "i = 0\n",
    "while (i % 3 == 0 and i % 7 == 0):   # while True hará que lo que está dentro del loop se ejecute\n",
    "    pass"
   ]
  },
  {
   "cell_type": "code",
   "execution_count": 39,
   "metadata": {},
   "outputs": [
    {
     "name": "stdout",
     "output_type": "stream",
     "text": [
      "0 divisible by 3 and 7\n"
     ]
    }
   ],
   "source": [
    "print(i, \"divisible by 3 and 7\")  # Nunca nos movimos del 0 porque se nos olvidó añadirle 1 a i"
   ]
  },
  {
   "cell_type": "code",
   "execution_count": null,
   "metadata": {},
   "outputs": [],
   "source": []
  }
 ],
 "metadata": {
  "kernelspec": {
   "display_name": "Python 3",
   "language": "python",
   "name": "python3"
  },
  "language_info": {
   "codemirror_mode": {
    "name": "ipython",
    "version": 3
   },
   "file_extension": ".py",
   "mimetype": "text/x-python",
   "name": "python",
   "nbconvert_exporter": "python",
   "pygments_lexer": "ipython3",
   "version": "3.7.4"
  }
 },
 "nbformat": 4,
 "nbformat_minor": 2
}
