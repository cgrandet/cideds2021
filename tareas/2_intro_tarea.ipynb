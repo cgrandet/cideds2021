{
 "cells": [
  {
   "cell_type": "markdown",
   "metadata": {
    "colab_type": "text",
    "id": "LJQgOd5mRvsh"
   },
   "source": [
    "## Sesión 2: Laboratorio\n",
    "\n",
    "En este laboratorio repasaremos los conceptos que aprendiste en la sesión de hoy. La idea es hacerlo a través de ejemplos concretos y aplicados a situaciones que podrías enfrentarte en un entorno laboral. "
   ]
  },
  {
   "cell_type": "markdown",
   "metadata": {
    "colab_type": "text",
    "id": "PBTW-gWIca4c"
   },
   "source": [
    "## Loops y funciones"
   ]
  },
  {
   "cell_type": "markdown",
   "metadata": {},
   "source": [
    "Resolvamos este ejercicio\n",
    "\n",
    "https://www.hackerrank.com/challenges/swap-case/problem"
   ]
  },
  {
   "cell_type": "code",
   "execution_count": 4,
   "metadata": {},
   "outputs": [],
   "source": [
    "valor = \"CarLos\""
   ]
  },
  {
   "cell_type": "code",
   "execution_count": 5,
   "metadata": {},
   "outputs": [],
   "source": [
    "valor_nuevo = \"\"\n",
    "if valor[0] == valor[0].upper():\n",
    "    valor_nuevo = valor_nuevo + valor[0].lower()\n",
    "elif valor[0] == valor[0].lower():\n",
    "    valor_nuevo = valor_nuevo + valor[0].upper()\n",
    "    \n",
    "if valor[1] == valor[1].upper():\n",
    "    valor_nuevo = valor_nuevo + valor[1].lower()\n",
    "elif valor[1] == valor[1].lower():\n",
    "    valor_nuevo = valor_nuevo + valor[1].upper()\n",
    "    \n",
    "if valor[2] == valor[2].upper():\n",
    "    valor_nuevo = valor_nuevo + valor[2].lower()\n",
    "elif valor[2] == valor[2].lower():\n",
    "    valor_nuevo = valor_nuevo + valor[2].upper()\n",
    "    \n",
    "if valor[3] == valor[3].upper():\n",
    "    valor_nuevo = valor_nuevo + valor[3].lower()\n",
    "elif valor[3] == valor[3].lower():\n",
    "    valor_nuevo = valor_nuevo + valor[3].upper()\n",
    "    \n",
    "if valor[4] == valor[4].upper():\n",
    "    valor_nuevo = valor_nuevo + valor[4].lower()\n",
    "elif valor[4] == valor[4].lower():\n",
    "    valor_nuevo = valor_nuevo + valor[4].upper()\n",
    "\n",
    "if valor[5] == valor[5].upper():\n",
    "    valor_nuevo = valor_nuevo + valor[3].lower()\n",
    "elif valor[5] == valor[5].lower():\n",
    "    valor_nuevo = valor_nuevo + valor[5].upper()"
   ]
  },
  {
   "cell_type": "code",
   "execution_count": 6,
   "metadata": {},
   "outputs": [
    {
     "data": {
      "text/plain": [
       "('CarLos', 'cARlOS')"
      ]
     },
     "execution_count": 6,
     "metadata": {},
     "output_type": "execute_result"
    }
   ],
   "source": [
    "valor, valor_nuevo"
   ]
  },
  {
   "cell_type": "code",
   "execution_count": 19,
   "metadata": {},
   "outputs": [
    {
     "ename": "TypeError",
     "evalue": "string indices must be integers",
     "output_type": "error",
     "traceback": [
      "\u001b[1;31m---------------------------------------------------------------------------\u001b[0m",
      "\u001b[1;31mTypeError\u001b[0m                                 Traceback (most recent call last)",
      "\u001b[1;32m<ipython-input-19-96fdb167be29>\u001b[0m in \u001b[0;36m<module>\u001b[1;34m\u001b[0m\n\u001b[0;32m      1\u001b[0m \u001b[1;32mfor\u001b[0m \u001b[0mi\u001b[0m \u001b[1;32min\u001b[0m \u001b[0mvalor\u001b[0m\u001b[1;33m:\u001b[0m\u001b[1;33m\u001b[0m\u001b[1;33m\u001b[0m\u001b[0m\n\u001b[0;32m      2\u001b[0m     \u001b[0mvalor_nuevo\u001b[0m \u001b[1;33m=\u001b[0m \u001b[1;34m\"\"\u001b[0m\u001b[1;33m\u001b[0m\u001b[1;33m\u001b[0m\u001b[0m\n\u001b[1;32m----> 3\u001b[1;33m     \u001b[1;32mif\u001b[0m \u001b[0mvalor\u001b[0m\u001b[1;33m[\u001b[0m\u001b[0mi\u001b[0m\u001b[1;33m]\u001b[0m \u001b[1;33m==\u001b[0m \u001b[0mvalor\u001b[0m\u001b[1;33m[\u001b[0m\u001b[0mi\u001b[0m\u001b[1;33m]\u001b[0m\u001b[1;33m.\u001b[0m\u001b[0mupper\u001b[0m\u001b[1;33m(\u001b[0m\u001b[1;33m)\u001b[0m\u001b[1;33m:\u001b[0m\u001b[1;33m\u001b[0m\u001b[1;33m\u001b[0m\u001b[0m\n\u001b[0m\u001b[0;32m      4\u001b[0m         \u001b[0mvalor_nuevo\u001b[0m \u001b[1;33m=\u001b[0m \u001b[0mvalor_nuevo\u001b[0m \u001b[1;33m+\u001b[0m \u001b[0mvalor\u001b[0m\u001b[1;33m[\u001b[0m\u001b[0mi\u001b[0m\u001b[1;33m]\u001b[0m\u001b[1;33m.\u001b[0m\u001b[0mlower\u001b[0m\u001b[1;33m(\u001b[0m\u001b[1;33m)\u001b[0m\u001b[1;33m\u001b[0m\u001b[1;33m\u001b[0m\u001b[0m\n\u001b[0;32m      5\u001b[0m     \u001b[1;32melif\u001b[0m \u001b[0mvalor\u001b[0m\u001b[1;33m[\u001b[0m\u001b[0mi\u001b[0m\u001b[1;33m]\u001b[0m \u001b[1;33m==\u001b[0m \u001b[0mvalor\u001b[0m\u001b[1;33m[\u001b[0m\u001b[0mi\u001b[0m\u001b[1;33m]\u001b[0m\u001b[1;33m.\u001b[0m\u001b[0mlower\u001b[0m\u001b[1;33m(\u001b[0m\u001b[1;33m)\u001b[0m\u001b[1;33m:\u001b[0m\u001b[1;33m\u001b[0m\u001b[1;33m\u001b[0m\u001b[0m\n",
      "\u001b[1;31mTypeError\u001b[0m: string indices must be integers"
     ]
    }
   ],
   "source": [
    "for i in valor:\n",
    "    valor_nuevo = \"\"\n",
    "    if valor[i] == valor[i].upper():\n",
    "        valor_nuevo = valor_nuevo + valor[i].lower()\n",
    "    elif valor[i] == valor[i].lower():\n",
    "        valor_nuevo = valor_nuevo + valor[i].upper()"
   ]
  },
  {
   "cell_type": "markdown",
   "metadata": {},
   "source": [
    "¿Qué pasa si indexeas un string?"
   ]
  },
  {
   "cell_type": "code",
   "execution_count": 20,
   "metadata": {},
   "outputs": [
    {
     "data": {
      "text/plain": [
       "'a'"
      ]
     },
     "execution_count": 20,
     "metadata": {},
     "output_type": "execute_result"
    }
   ],
   "source": [
    "str_prueba = \"alfabeto\"\n",
    "str_prueba[3]"
   ]
  },
  {
   "cell_type": "code",
   "execution_count": 21,
   "metadata": {},
   "outputs": [
    {
     "data": {
      "text/plain": [
       "'ab'"
      ]
     },
     "execution_count": 21,
     "metadata": {},
     "output_type": "execute_result"
    }
   ],
   "source": [
    "str_prueba = \"alfabeto\"\n",
    "str_prueba[3:5]"
   ]
  },
  {
   "cell_type": "markdown",
   "metadata": {},
   "source": [
    "¿Qué pasa si indexeas un string con otro string?"
   ]
  },
  {
   "cell_type": "code",
   "execution_count": 22,
   "metadata": {},
   "outputs": [
    {
     "ename": "TypeError",
     "evalue": "string indices must be integers",
     "output_type": "error",
     "traceback": [
      "\u001b[1;31m---------------------------------------------------------------------------\u001b[0m",
      "\u001b[1;31mTypeError\u001b[0m                                 Traceback (most recent call last)",
      "\u001b[1;32m<ipython-input-22-ee7744572b2b>\u001b[0m in \u001b[0;36m<module>\u001b[1;34m\u001b[0m\n\u001b[1;32m----> 1\u001b[1;33m \u001b[0mstr_prueba\u001b[0m\u001b[1;33m[\u001b[0m\u001b[1;34m\"al\"\u001b[0m\u001b[1;33m]\u001b[0m\u001b[1;33m\u001b[0m\u001b[1;33m\u001b[0m\u001b[0m\n\u001b[0m",
      "\u001b[1;31mTypeError\u001b[0m: string indices must be integers"
     ]
    }
   ],
   "source": [
    "str_prueba[\"al\"]"
   ]
  },
  {
   "cell_type": "code",
   "execution_count": 23,
   "metadata": {},
   "outputs": [
    {
     "name": "stdout",
     "output_type": "stream",
     "text": [
      "C\n",
      "a\n",
      "r\n",
      "L\n",
      "o\n",
      "s\n"
     ]
    }
   ],
   "source": [
    "for i in valor:\n",
    "    print(i)"
   ]
  },
  {
   "cell_type": "code",
   "execution_count": 24,
   "metadata": {},
   "outputs": [],
   "source": [
    "for i in range(len(valor)):\n",
    "    valor_nuevo = \"\"\n",
    "    if valor[i] == valor[i].upper():\n",
    "        valor_nuevo = valor_nuevo + valor[i].lower()\n",
    "    elif valor[i] == valor[i].lower():\n",
    "        valor_nuevo = valor_nuevo + valor[i].upper()"
   ]
  },
  {
   "cell_type": "code",
   "execution_count": 25,
   "metadata": {},
   "outputs": [
    {
     "data": {
      "text/plain": [
       "('CarLos', 'S')"
      ]
     },
     "execution_count": 25,
     "metadata": {},
     "output_type": "execute_result"
    }
   ],
   "source": [
    "valor, valor_nuevo"
   ]
  },
  {
   "cell_type": "markdown",
   "metadata": {},
   "source": [
    "¿Qué pasa cuándo la variable *valor_nuevo* está dentro del loop?"
   ]
  },
  {
   "cell_type": "code",
   "execution_count": 9,
   "metadata": {},
   "outputs": [],
   "source": [
    "valor_nuevo = \"\"\n",
    "for i in range(len(valor)):\n",
    "    if valor[i] == valor[i].upper():\n",
    "        valor_nuevo = valor_nuevo + valor[i].lower()\n",
    "    elif valor[i] == valor[i].lower():\n",
    "        valor_nuevo = valor_nuevo + valor[i].upper()"
   ]
  },
  {
   "cell_type": "markdown",
   "metadata": {},
   "source": [
    "¿Cómo lo harias sin usar la funcion *range* ni *len* string?"
   ]
  },
  {
   "cell_type": "code",
   "execution_count": null,
   "metadata": {},
   "outputs": [],
   "source": []
  },
  {
   "cell_type": "markdown",
   "metadata": {},
   "source": [
    "¿Cómo lo harias reduciendo el codigo?"
   ]
  },
  {
   "cell_type": "code",
   "execution_count": null,
   "metadata": {},
   "outputs": [],
   "source": []
  },
  {
   "cell_type": "markdown",
   "metadata": {},
   "source": [
    "Ahora, crea una funcion"
   ]
  },
  {
   "cell_type": "code",
   "execution_count": null,
   "metadata": {},
   "outputs": [],
   "source": []
  },
  {
   "cell_type": "markdown",
   "metadata": {},
   "source": [
    "### Ejemplo  práctico: escribiendo un correo"
   ]
  },
  {
   "cell_type": "markdown",
   "metadata": {},
   "source": [
    "En Python es posible automatizar y sistematizar mandar correos para no tener que hacer tareas repetitivas. Vamos a ver cómo"
   ]
  },
  {
   "cell_type": "markdown",
   "metadata": {},
   "source": [
    "##### Paso 1. Dar las credenciales\n",
    "Es importante configurar gmail para el permiso de acceso. Primero hay que permitir la verificacion en dos pasos"
   ]
  },
  {
   "cell_type": "markdown",
   "metadata": {},
   "source": [
    "![title](images/verificacion.jpeg)"
   ]
  },
  {
   "cell_type": "markdown",
   "metadata": {},
   "source": [
    "##### Paso 2. Crear un password para apps\n",
    "Crear un password para apps\n",
    "![title](images/python.jpeg)"
   ]
  },
  {
   "cell_type": "markdown",
   "metadata": {},
   "source": [
    "##### Paso 3. Copia y guarda tu password\n",
    "Copia y guardalo\n",
    "![title](images/password.jpeg)"
   ]
  },
  {
   "cell_type": "code",
   "execution_count": null,
   "metadata": {},
   "outputs": [],
   "source": []
  },
  {
   "cell_type": "markdown",
   "metadata": {},
   "source": [
    "##### Paso 4 Ingresa datos de acceso\n"
   ]
  },
  {
   "cell_type": "code",
   "execution_count": 30,
   "metadata": {},
   "outputs": [
    {
     "name": "stdout",
     "output_type": "stream",
     "text": [
      "carlos.grandet@gmail.com\n"
     ]
    }
   ],
   "source": [
    "email = input()"
   ]
  },
  {
   "cell_type": "code",
   "execution_count": 31,
   "metadata": {},
   "outputs": [],
   "source": [
    "from getpass import getpass"
   ]
  },
  {
   "cell_type": "code",
   "execution_count": 32,
   "metadata": {},
   "outputs": [
    {
     "name": "stdout",
     "output_type": "stream",
     "text": [
      "········\n"
     ]
    }
   ],
   "source": [
    "password = getpass()"
   ]
  },
  {
   "cell_type": "markdown",
   "metadata": {},
   "source": [
    "##### Paso 5 Corre codigo"
   ]
  },
  {
   "cell_type": "code",
   "execution_count": 35,
   "metadata": {},
   "outputs": [
    {
     "data": {
      "text/plain": [
       "(221, b'2.0.0 closing connection 34sm4606657otg.23 - gsmtp')"
      ]
     },
     "execution_count": 35,
     "metadata": {},
     "output_type": "execute_result"
    }
   ],
   "source": [
    "# Python code to illustrate Sending mail from  \n",
    "# your Gmail account  \n",
    "import smtplib \n",
    "  \n",
    "# creates SMTP session \n",
    "s = smtplib.SMTP('smtp.gmail.com', 587) \n",
    "  \n",
    "# start TLS for security \n",
    "s.starttls() \n",
    "  \n",
    "# Authentication \n",
    "s.login(email, password) \n",
    "  \n",
    "# message to be sent \n",
    "message = \"Hola\" \n",
    "  \n",
    "# sending the mail \n",
    "s.sendmail(email, \"carlos.grandet@bbva.com\", message) \n",
    "  \n",
    "# terminating the session \n",
    "s.quit() "
   ]
  },
  {
   "cell_type": "markdown",
   "metadata": {},
   "source": [
    "Ahora personalizamos el correo"
   ]
  },
  {
   "cell_type": "code",
   "execution_count": 36,
   "metadata": {},
   "outputs": [
    {
     "data": {
      "text/plain": [
       "(221, b'2.0.0 closing connection s13sm1778589otq.5 - gsmtp')"
      ]
     },
     "execution_count": 36,
     "metadata": {},
     "output_type": "execute_result"
    }
   ],
   "source": [
    "# Python code to illustrate Sending mail from  \n",
    "# your Gmail account  \n",
    "import smtplib \n",
    "  \n",
    "# creates SMTP session \n",
    "s = smtplib.SMTP('smtp.gmail.com', 587) \n",
    "  \n",
    "# start TLS for security \n",
    "s.starttls() \n",
    "  \n",
    "# Authentication \n",
    "s.login(email, password) \n",
    "\n",
    "name = \"Carlos\"\n",
    "# message to be sent \n",
    "message = '''Hello {},\n",
    "This is a test mail.\n",
    "The mail is sent using Python SMTP library.\n",
    "Thank You\n",
    "'''.format(name)\n",
    "  \n",
    "# sending the mail \n",
    "s.sendmail(email, \"carlos.grandet@bbva.com\", message) \n",
    "  \n",
    "# terminating the session \n",
    "s.quit() "
   ]
  },
  {
   "cell_type": "markdown",
   "metadata": {},
   "source": [
    "Ahora hacemos un loop"
   ]
  },
  {
   "cell_type": "code",
   "execution_count": 45,
   "metadata": {},
   "outputs": [
    {
     "name": "stdout",
     "output_type": "stream",
     "text": [
      "carlos.grandet@gmail.com\n",
      "carlos.grandet@bbva.com\n",
      "grandet.lccg@gmail.com\n"
     ]
    }
   ],
   "source": [
    "import smtplib \n",
    "\n",
    "correos = [\"carlos.grandet@gmail.com\", \"carlos.grandet@bbva.com\", \"grandet.lccg@gmail.com\"]\n",
    "for correo in correos:\n",
    "    print(correo)\n",
    "    # Python code to illustrate Sending mail from  \n",
    "    # your Gmail account  \n",
    "\n",
    "    # creates SMTP session \n",
    "    s = smtplib.SMTP('smtp.gmail.com', 587) \n",
    "\n",
    "    # start TLS for security \n",
    "    s.starttls() \n",
    "\n",
    "    # Authentication \n",
    "    s.login(email, password) \n",
    "\n",
    "    name = \"Carlos\"\n",
    "    # message to be sent \n",
    "    message = '''Hello {},\n",
    "    This is a test mail to {}.\n",
    "    The mail is sent using Python SMTP library.\n",
    "    Thank You\n",
    "    '''.format(name, correo)\n",
    "\n",
    "    # sending the mail \n",
    "    s.sendmail(email, correo, message) \n",
    "\n",
    "    # terminating the session \n",
    "    s.quit() "
   ]
  },
  {
   "cell_type": "markdown",
   "metadata": {},
   "source": [
    "Ahora mandamos un attachment"
   ]
  },
  {
   "cell_type": "code",
   "execution_count": 56,
   "metadata": {},
   "outputs": [],
   "source": [
    "from email.mime.multipart import MIMEMultipart\n",
    "from email.mime.text import MIMEText\n",
    "from email.mime.base import MIMEBase\n",
    "from email.mime.application import MIMEApplication\n",
    "from email.mime.multipart import MIMEMultipart\n",
    "from email import encoders\n",
    "from os.path import basename"
   ]
  },
  {
   "cell_type": "code",
   "execution_count": null,
   "metadata": {},
   "outputs": [],
   "source": [
    "\n",
    "sender = \"carlos.grandet@gmail.com\"\n",
    "receiver = \"carlos.grandet@bbva.com\"\n",
    "#Setup the MIME\n",
    "message = MIMEMultipart()\n",
    "mail_content = '''Hello,\n",
    "This is a test mail.\n",
    "In this mail we are sending some attachments.\n",
    "The mail is sent using Python SMTP library.\n",
    "Thank You\n",
    "'''\n",
    "message['From'] = sender\n",
    "message['To'] = receiver\n",
    "message['Subject'] = 'A test mail sent by Python. It has an attachment.'\n",
    "\n",
    "\n",
    "#The subject line\n",
    "#The body and the attachments for the mail\n",
    "message.attach(MIMEText(mail_content, 'plain'))\n",
    "\n",
    "attach_file_name = 'files/20200715-cv español-Carlos O. Grandet.pdf'\n",
    "with open(attach_file_name, \"rb\") as fil:\n",
    "    part = MIMEApplication(\n",
    "    fil.read(),\n",
    "    Name=basename(attach_file_name)\n",
    "    )\n",
    "    # After the file is closed\n",
    "    part['Content-Disposition'] = 'attachment; filename=\"{}\"'.format(basename(attach_file_name))\n",
    "    message.attach(part)\n",
    "\n",
    "\n",
    "# creates SMTP session \n",
    "s = smtplib.SMTP('smtp.gmail.com', 587) \n",
    "# start TLS for security \n",
    "s.starttls() \n",
    "# Authentication \n",
    "s.login(email, password)   \n",
    "# sending the mail \n",
    "\n",
    "text = message.as_string()\n",
    "s.sendmail(sender, receiver, text) \n",
    "# terminating the session \n",
    "s.quit() \n",
    "\n"
   ]
  },
  {
   "cell_type": "markdown",
   "metadata": {},
   "source": [
    "### Tarea"
   ]
  },
  {
   "cell_type": "markdown",
   "metadata": {},
   "source": [
    "Crea una funcion que mande un correo personalizado a la lista de contactos de la clase usando un loop\n",
    "El correo deberá\n",
    "\n",
    "1. Mandar un saludo personalizado con el nombre de la persona. El listado está [aqui](https://docs.google.com/spreadsheets/d/1pBwfAWDdf-An4ROAHzCVHUxNyu0e9YCjPdkJTyDwEs4/edit#gid=0)\n",
    "2. Si el nombre de la persona empieza con una letra en A-J, entonces manda este [archivo](https://drive.google.com/drive/folders/103uK9KOg26sKFIbRjQCvjFFix3wL37nx)\n",
    "3. Si el nombre empieza con una letra en K-Z, entonces manda este [archivo](https://drive.google.com/drive/folders/103uK9KOg26sKFIbRjQCvjFFix3wL37nx)"
   ]
  },
  {
   "cell_type": "markdown",
   "metadata": {},
   "source": [
    "## Ejercicios en HakerRank"
   ]
  },
  {
   "cell_type": "code",
   "execution_count": null,
   "metadata": {},
   "outputs": [],
   "source": [
    "HackerRank es un sitio web con ejercicios para resolver que te ayudaran a entender mejor los conceptos de la clase. \n",
    "Vamos a resolver uno en clase y los restantes serán de tarea\n",
    "\n",
    "1. https://www.hackerrank.com/challenges/python-loops/problem\n",
    "2. https://www.hackerrank.com/challenges/write-a-function/problem"
   ]
  },
  {
   "cell_type": "markdown",
   "metadata": {},
   "source": [
    "### Ejercicios Judge Kattis"
   ]
  },
  {
   "cell_type": "code",
   "execution_count": null,
   "metadata": {},
   "outputs": [],
   "source": [
    "0. https://open.kattis.com/problems/carrots\n",
    "1. https://open.kattis.com/problems/reversebinary\n",
    "2. https://open.kattis.com/problems/stararrangements\n",
    "3. https://open.kattis.com/problems/4thought\n",
    "4. https://open.kattis.com/problems/abc"
   ]
  }
 ],
 "metadata": {
  "colab": {
   "collapsed_sections": [],
   "name": "1_intro_lab.ipynb",
   "provenance": [],
   "toc_visible": true
  },
  "kernelspec": {
   "display_name": "Python 3",
   "language": "python",
   "name": "python3"
  },
  "language_info": {
   "codemirror_mode": {
    "name": "ipython",
    "version": 3
   },
   "file_extension": ".py",
   "mimetype": "text/x-python",
   "name": "python",
   "nbconvert_exporter": "python",
   "pygments_lexer": "ipython3",
   "version": "3.7.6"
  }
 },
 "nbformat": 4,
 "nbformat_minor": 1
}
